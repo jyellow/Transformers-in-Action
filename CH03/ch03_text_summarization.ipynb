{
  "cells": [
    {
      "cell_type": "markdown",
      "metadata": {
        "id": "5cO680Zol59t"
      },
      "source": [
        "## Open notebook in:\n",
        "| Colab                                 |  Gradient                                                                                                                                         |\n",
        "|:-------------------------------------------------------------------------------------------------------------------------------------------------------------------------------------------------------------------|:-----------------------------------------------------------------------------------------------------------------------------------------------------------------------------------------------------------------------|\n",
        "[![Open In Colab](https://colab.research.google.com/assets/colab-badge.svg)](https://colab.research.google.com/github/jyellow/Transformers-in-Action/blob/main/CH03/ch03_text_summarization.ipynb)                                              | [![Gradient](https://assets.paperspace.io/img/gradient-badge.svg)](https://console.paperspace.com/github/Nicolepcx/Transformers-in-Action/blob/main/CH03/ch03_text_summarization.ipynb)|             "
      ]
    },
    {
      "cell_type": "markdown",
      "metadata": {
        "id": "1vnhHxCRlHRs"
      },
      "source": [
        "# Download repo"
      ]
    },
    {
      "cell_type": "code",
      "execution_count": null,
      "metadata": {
        "colab": {
          "base_uri": "https://localhost:8080/"
        },
        "id": "TwX2FgaHT9Kd",
        "outputId": "a7250db3-a33d-4f64-bcbe-671bb04c1271"
      },
      "outputs": [],
      "source": [
        "# Clone repo, if it's not already cloned, to be sure all runs on smoothly\n",
        "# on Colab, Kaggle or Paperspace\n",
        "import os\n",
        "\n",
        "if not os.path.isdir('Transformers-in-Action'):\n",
        "    !git clone https://github.com/jyellow/Transformers-in-Action.git\n",
        "else:\n",
        "    print('Repository already exists. Skipping clone.')\n",
        "\n",
        "\n",
        "current_path = %pwd\n",
        "if '/Transformers-in-Action' in current_path:\n",
        "    new_path = current_path + '/utils'\n",
        "else:\n",
        "    new_path = current_path + '/Transformers-in-Action/utils'\n",
        "%cd $new_path"
      ]
    },
    {
      "cell_type": "markdown",
      "metadata": {
        "id": "57Nsu3SXbEVZ"
      },
      "source": [
        "# About this notebook\n",
        "\n",
        "Welcome to this exciting notebook, where we dive into the world of text summarization using a variety of cutting-edge models and techniques. In this notebook, we will put several state-of-the-art Transformer-based models, including BART, T5, ProphetNet and Pegasus to the test. As a baseline, we will also explore a TextRank-based model to compare their performance. Our objective is to analyze the efficacy and suitability of these models in generating summaries for different types of datasets, such as [CNN daily](https://huggingface.co/datasets/cnn_dailymail) news articles and [arXiv scientific papers](https://huggingface.co/datasets/scientific_papers).\n",
        "To further challenge these models, we will utilize the BigBird and Longformer architectures, which are specifically designed to handle longer input sequences. This will enable us to examine the models' performance on the CNN daily and arXiv datasets, which consist of diverse content and varying text lengths.\n",
        "In this notebook, you can expect to:\n",
        "1. Gain an introduction to the various text summarization models, including their key features and limitations.\n",
        "2. Learn how to implement and utilize these models to generate summaries for different types of text.\n",
        "3. Assess the models' performance on multiple samples from the CNN daily and arXiv datasets using both ROUGE and BLEU metrics for an in-depth comparison.\n",
        "4. Understand the significance of evaluating models on a diverse set of samples to achieve a more dependable and generalizable performance evaluation.\n",
        "5. Discover the challenges associated with assessing models on complex and domain-specific datasets, and how the BigBird and Longformer architectures can help address these issues.\n",
        "\n",
        "By the end of this notebook, you will have a comprehensive understanding of various text summarization models, their performance on different datasets, and the intricacies involved in evaluating models on complex, domain-specific data. Let's embark on this fascinating journey and unlock the potential of these powerful text summarization models!"
      ]
    },
    {
      "cell_type": "markdown",
      "metadata": {
        "id": "bFkkn_xslQJr"
      },
      "source": [
        "# Install requirements"
      ]
    },
    {
      "cell_type": "code",
      "execution_count": null,
      "metadata": {
        "colab": {
          "base_uri": "https://localhost:8080/"
        },
        "id": "Wd1ZzsnztYum",
        "outputId": "260063fa-2cb8-4ba3-ffdd-f1d005987416"
      },
      "outputs": [],
      "source": [
        "!pip install -U tensorflow==2.12.0 -q\n",
        "!pip install -U keras==2.12.0 -q\n",
        "!pip install -U tensorflow-gcs-config==2.12.0 -q\n",
        "!pip install -U tensorflow-probability==0.20.1 -q"
      ]
    },
    {
      "cell_type": "code",
      "execution_count": 3,
      "metadata": {
        "id": "CJQrCNtIxt7u"
      },
      "outputs": [],
      "source": [
        "from requirements import *"
      ]
    },
    {
      "cell_type": "code",
      "execution_count": null,
      "metadata": {
        "colab": {
          "base_uri": "https://localhost:8080/"
        },
        "id": "iC7eYoG2nP4g",
        "outputId": "43cf1f35-51e6-4faf-b19b-b47f817c2604"
      },
      "outputs": [],
      "source": [
        "install_base_packages()\n",
        "install_required_packages_ch03()"
      ]
    },
    {
      "cell_type": "markdown",
      "metadata": {
        "id": "LXhy8Pu_lVcN"
      },
      "source": [
        "# Imports"
      ]
    },
    {
      "cell_type": "code",
      "execution_count": null,
      "metadata": {
        "colab": {
          "base_uri": "https://localhost:8080/"
        },
        "id": "73osbzDDpDkp",
        "outputId": "c1bbc6e0-02cf-437c-f1e6-965c16d4f2d0"
      },
      "outputs": [],
      "source": [
        "from setup import *\n",
        "from utils import *\n",
        "from textrank import *"
      ]
    },
    {
      "cell_type": "code",
      "execution_count": null,
      "metadata": {
        "colab": {
          "base_uri": "https://localhost:8080/"
        },
        "id": "fVN6H8w-lcz8",
        "outputId": "f4a9c75d-0ff4-4c91-9756-d8d25860a99a"
      },
      "outputs": [],
      "source": [
        "useGPU()"
      ]
    },
    {
      "cell_type": "code",
      "execution_count": 7,
      "metadata": {
        "id": "DUwB04DBJVf3"
      },
      "outputs": [],
      "source": [
        "import pandas as pd\n",
        "import numpy as np\n",
        "from functools import partial\n",
        "\n",
        "import nltk\n",
        "from sklearn.feature_extraction.text import CountVectorizer\n",
        "from sklearn.feature_extraction.text import TfidfTransformer\n",
        "\n",
        "import networkx as nx\n",
        "\n",
        "from summa import summarizer\n",
        "from transformers import pipeline, AutoTokenizer, AutoModelForSeq2SeqLM, set_seed\n",
        "from transformers import LEDForConditionalGeneration, LEDTokenizer\n",
        "from transformers import BartConfig, BartForConditionalGeneration\n",
        "from transformers import LEDConfig, LEDForConditionalGeneration\n",
        "from transformers import BigBirdPegasusForConditionalGeneration, AutoTokenizer\n",
        "import torch\n",
        "from datasets import load_dataset\n",
        "\n",
        "from multiprocessing import Pool\n",
        "import evaluate\n",
        "from tqdm import tqdm\n",
        "\n",
        "import matplotlib.pyplot as plt\n",
        "\n",
        "from textwrap import TextWrapper\n",
        "\n",
        "set_seed(42)"
      ]
    },
    {
      "cell_type": "code",
      "execution_count": 8,
      "metadata": {
        "id": "asT29IdDC0j9"
      },
      "outputs": [],
      "source": [
        "# %%capture\n",
        "# !pip install watermark"
      ]
    },
    {
      "cell_type": "code",
      "execution_count": null,
      "metadata": {
        "colab": {
          "base_uri": "https://localhost:8080/"
        },
        "id": "hIXQ43WNDXNP",
        "outputId": "b4a514e4-3f42-43a6-89fe-2553fa8a51e2"
      },
      "outputs": [],
      "source": [
        "# %load_ext watermark\n",
        "# %watermark -a \"Nicole Koenigstein\" -gu \"Nicolepcx\" -u -d -v -m"
      ]
    },
    {
      "cell_type": "markdown",
      "metadata": {
        "id": "vazshSUmPs-s"
      },
      "source": [
        "# Allocate enough RAM"
      ]
    },
    {
      "cell_type": "markdown",
      "metadata": {
        "id": "KEBmtiOeOOV5"
      },
      "source": [
        "Let us try to get a __GPU__ with at least __15GB RAM__ for our notebook."
      ]
    },
    {
      "cell_type": "code",
      "execution_count": null,
      "metadata": {
        "id": "dqsj2G_XOV5M"
      },
      "outputs": [],
      "source": [
        "# crash colab to get more RAM -> uncomment to use\n",
        "# !kill -9 -1"
      ]
    },
    {
      "cell_type": "markdown",
      "metadata": {
        "id": "RMzVL7cLObmK"
      },
      "source": [
        "We can execute the following command `!free -h`  to see if we have enough RAM and `!nvidia-smi` to get more info about our GPU type we got assigned.\n",
        "If the allocated GPU is too small, the above cell can be used to run the command to crash the notebook hoping to get a better GPU after the crash, since the GPU is randomly allocated.\n"
      ]
    },
    {
      "cell_type": "code",
      "execution_count": null,
      "metadata": {
        "colab": {
          "base_uri": "https://localhost:8080/"
        },
        "id": "NrKOwtesglSu",
        "outputId": "1327c306-85a5-49c2-96a8-4982a29f0055"
      },
      "outputs": [],
      "source": [
        "!free -h"
      ]
    },
    {
      "cell_type": "code",
      "execution_count": null,
      "metadata": {
        "colab": {
          "base_uri": "https://localhost:8080/"
        },
        "id": "LKRiHlhcOgMR",
        "outputId": "d28471d7-80f6-414e-cb99-f9bebff875b3"
      },
      "outputs": [],
      "source": [
        "!nvidia-smi"
      ]
    },
    {
      "cell_type": "markdown",
      "metadata": {
        "id": "p-eot4__mHKQ"
      },
      "source": [
        "# TextRank Algorithmus"
      ]
    },
    {
      "cell_type": "markdown",
      "metadata": {
        "id": "Wc3oDJq2RvUT"
      },
      "source": [
        "The custom `TextRank` class is designed to create a graph-based representation of a given text, where each node in the graph corresponds to a sentence, and the edges between nodes represent the similarity between sentences. This graph-based representation provides an intuitive way to visualize and understand the relationships among sentences in the text.\n",
        "\n",
        "Using a graph to represent text is particularly useful for tasks like text summarization, where identifying the most important and representative sentences is crucial. By representing the text as a graph, the TextRank algorithm can leverage the graph structure to rank sentences based on their importance in the overall text.\n",
        "\n",
        "TextRank is an unsupervised graph-based ranking algorithm inspired by Google's PageRank algorithm. It was first introduced in the paper [\"TextRank: Bringing Order into Texts\"](https://aclanthology.org/W04-3252/) by Mihalcea and Tarau (2004). The TextRank class in the code below constructs a graph by calculating the cosine similarity between sentences using the Bag of Words (BoW) and TF-IDF representation of the sentences. The higher the similarity, the stronger the connection between the sentences in the graph. By plotting this graph, we can visually explore the relationships among sentences and better understand the structure and organization of the text."
      ]
    },
    {
      "cell_type": "code",
      "execution_count": 12,
      "metadata": {
        "id": "2oksIOZAMMbY"
      },
      "outputs": [],
      "source": [
        "# We use the first paragraph for the original Transformer paper\n",
        "# \"Attention Is All You Need\"\n",
        "text = \"Recurrent neural networks, long short-term memory [13] and gated recurrent [7] \\\n",
        "neural networks in particular, have been firmly established as state of the art approaches \\\n",
        "in sequence modeling and transduction problems such as language modeling and machine translation [35, 2, 5]. Numerous \\\n",
        "efforts have since continued to push the boundaries of recurrent language models and encoder-decoder architectures [38, 24, 15]. \\\n",
        "Recurrent models typically factor computation along the symbol positions of the input and output \\\n",
        "sequences. Aligning the positions to steps in computation time, they generate a sequence of hidden \\\n",
        "states ht, as a function of the previous hidden state ht−1 and the input for position t. This inherently \\\n",
        "sequential nature precludes parallelization within training examples, which becomes critical at longer \\\n",
        "sequence lengths, as memory constraints limit batching across examples. Recent work has achieved \\\n",
        "significant improvements in computational efficiency through factorization tricks [21] and conditional \\\n",
        "computation [32], while also improving model performance in case of the latter. The fundamental \\\n",
        "constraint of sequential computation, however, remains. \\\n",
        "Attention mechanisms have become an integral part of compelling sequence modeling and transduction models \\\n",
        "in various tasks, allowing modeling of dependencies without regard to their distance in \\\n",
        "the input or output sequences [2, 19]. In all but a few cases [27], however, such attention mechanisms \\\n",
        "are used in conjunction with a recurrent network. \\\n",
        "In this work we propose the Transformer, a model architecture eschewing recurrence and instead \\\n",
        "relying entirely on an attention mechanism to draw global dependencies between input and output. \\\n",
        "The Transformer allows for significantly more parallelization and can reach a new state of the art in \\\n",
        "translation quality after being trained for as little as twelve hours on eight P100 GPUs.\""
      ]
    },
    {
      "cell_type": "code",
      "execution_count": null,
      "metadata": {
        "colab": {
          "base_uri": "https://localhost:8080/",
          "height": 803
        },
        "id": "LXsgaYm-UQ1v",
        "outputId": "059c25dc-175b-4df7-80ed-0592eb9e099f"
      },
      "outputs": [],
      "source": [
        "tr = TextRank()\n",
        "sentences = tr.split_sentences(text)\n",
        "G = tr.create_graph(sentences)\n",
        "tr.plot_graph(G)"
      ]
    },
    {
      "cell_type": "markdown",
      "metadata": {
        "id": "d68tyDGCrIO5"
      },
      "source": [
        "This plot shows a circular graph where each node represents a sentence from the input text. The edges connecting the nodes represent the similarity between the sentences, which is calculated using cosine similarity based on the TF-IDF representation of the sentences.\n",
        "\n",
        "The numbers displayed on the edges are the weights of the edges, representing the cosine similarity scores between the connected sentences. These scores range from 0 to 1, where 0 indicates no similarity and 1 indicates a perfect match (identical sentences). A higher number implies a stronger connection between the two sentences, meaning they share more words or terms in common.\n",
        "\n",
        "This graphical representation of the text allows us to visually analyze the relationships between the sentences in the input text. Which can help identify clusters of similar sentences or detect isolated sentences that might be less related to the main topics discussed in the text."
      ]
    },
    {
      "cell_type": "markdown",
      "metadata": {
        "id": "lUyEXX2h4ha8"
      },
      "source": [
        "## TextRank Example from Book"
      ]
    },
    {
      "cell_type": "markdown",
      "metadata": {
        "id": "oGs5O1mx4tpi"
      },
      "source": [
        " Text is represented as a graph, with nodes representing textual units (sentences or words) and edges representing the relationships between them.\n",
        "The scores for each node are calculated on the basis of the scores of its neighbors and the weights of the edges that connect them. First, the algorithm applies the PageRank equation as an iteration:\n",
        "\n",
        "\\begin{equation}\n",
        "p_i^{(k+1)}=\\frac{1-\\delta}{N}+\\delta \\cdot \\sum_{\\text {edges }_{j i}} \\frac{p_j^{(k)}}{c_j}\n",
        "\\end{equation}\n",
        "\n",
        "Then, as a second step, the PageRank is replaced by the rank $r$ of the vertices $V_{i}$, which can stand for words, phrases or complete sentences.\n",
        "\n",
        "\\begin{equation}\n",
        "r\\left(V_i^{(k+1)}\\right)=\\frac{1-\\delta}{N}+\\delta \\cdot \\sum_{\\text {edges }_{j i}} \\frac{\\omega_{j i} \\cdot r\\left(V_j^{(k)}\\right)}{\\sum_{\\text {edges }_{ji}} \\omega_{j i}}\n",
        "\\end{equation}\n",
        "\n",
        "Additionally, to each edge a weight $w_{ji}$ is attached in order to have more flexibility to characterize the \\emph{strength} of the connection between two vertices $V_j$ and $V_i$. Depending on the use case, these edges can represent different types of connection, lexical relations, or contextual relations.\n",
        "\n",
        "The pagerank function `def pagerank()` from the class `class TextRank` reflects the second equation, where $\\omega_{j i}$ is the weight of the connection between vertices $V_j$ and $V_i$ (i.e., adjacency\\_matrix[j, i]). The function calculates the rank $r(V_i^{(k+1)})$ for each vertex $V_i$ in the graph, considering the edge weights and the out-degree of each node."
      ]
    },
    {
      "cell_type": "code",
      "execution_count": null,
      "metadata": {
        "colab": {
          "base_uri": "https://localhost:8080/",
          "height": 1000
        },
        "id": "EGi1mhTu4sK9",
        "outputId": "f4d16755-3692-4ad7-9b07-701157d8a19a"
      },
      "outputs": [],
      "source": [
        "text = \"\"\"\n",
        "    Machine learning is a subfield of artificial intelligence.\n",
        "    Deep learning is a technique used in machine learning.\n",
        "    Supervised learning is a popular machine learning technique.\n",
        "    Unsupervised learning is another machine learning technique.\n",
        "    \"\"\"\n",
        "\n",
        "tr = TextRank()\n",
        "sentences = tr.split_sentences(text)\n",
        "G = tr.create_graph(sentences)\n",
        "tr.print_sentence_weights(G, sentences)\n",
        "tr.plot_graph(G)"
      ]
    },
    {
      "cell_type": "markdown",
      "metadata": {
        "id": "Zsqe0wSIm1on"
      },
      "source": [
        "# Use case CNN/Daily mail dataset"
      ]
    },
    {
      "cell_type": "markdown",
      "metadata": {
        "id": "4fvn-ucASzt8"
      },
      "source": [
        "The [CNN/Daily Mail dataset](https://huggingface.co/datasets/cnn_dailymail) is a popular choice for evaluating text summarization models in the NLP community. This dataset consists of news articles from CNN and Daily Mail websites, along with their human-generated summaries, also known as \"highlights\" or \"story points.\" It provides a large and diverse set of real-world articles and their corresponding summaries, making it an excellent benchmark for testing the performance of various summarization models.\n",
        "\n",
        "The dataset is interesting as an example use case for several reasons:\n",
        "\n",
        "1. Real-world data: The articles and summaries are sourced from actual news websites, which makes the dataset representative of the kind of content users might encounter and want to summarize in real-life scenarios.\n",
        "\n",
        "2. Diversity: The dataset covers a wide range of topics, such as politics, sports, entertainment, and technology. This diversity helps evaluate how well a summarization model can generalize across different domains and subject matters.\n",
        "\n",
        "3. Abstractive summarization: The human-generated highlights often involve rephrasing and paraphrasing of the original content, which requires a deeper understanding of the text. This makes the dataset suitable for testing the capabilities of abstractive summarization models, which aim to generate summaries that capture the main points of the input text while using new, concise, and coherent sentences.\n",
        "\n",
        "4. Large-scale: With over 300,000 articles and summaries, the CNN/Daily Mail dataset is large enough to train and evaluate deep learning models, such as Transformer-based models, which often require substantial amounts of data to achieve high performance.\n",
        "\n",
        "By using the CNN/Daily Mail dataset as an example use case, we can evaluate various Transformer-based summarization models on a challenging, diverse, and real-world dataset, which will give us valuable insights into their performance and potential applications."
      ]
    },
    {
      "cell_type": "markdown",
      "metadata": {
        "id": "b7tR4s4AnBLq"
      },
      "source": [
        "## Load the CNN/Daily mail dataset"
      ]
    },
    {
      "cell_type": "code",
      "execution_count": null,
      "metadata": {
        "colab": {
          "base_uri": "https://localhost:8080/",
          "height": 1000
        },
        "id": "m4lCDpdzPjBo",
        "outputId": "0e77f049-6193-48ad-d22a-98cff296453f"
      },
      "outputs": [],
      "source": [
        "# %%capture\n",
        "# # install new version datasets package\n",
        "# %pip install -U datasets"
      ]
    },
    {
      "cell_type": "code",
      "execution_count": 3,
      "metadata": {
        "id": "jMOFjBQaQh9i"
      },
      "outputs": [],
      "source": [
        "# import datasets\n",
        "# datasets.__version__\n",
        "# from datasets import load_dataset"
      ]
    },
    {
      "cell_type": "code",
      "execution_count": 16,
      "metadata": {
        "id": "05A_omTEridT"
      },
      "outputs": [],
      "source": [
        "# Load the CNN/Daily mail dataset\n",
        "dataset = load_dataset('cnn_dailymail', '3.0.0')"
      ]
    },
    {
      "cell_type": "code",
      "execution_count": null,
      "metadata": {
        "colab": {
          "base_uri": "https://localhost:8080/",
          "height": 413,
          "referenced_widgets": [
            "ddaa610b64bb4a258df3ddf53294deca",
            "230d9236192d462abe81c5c8db7f1641",
            "74f59f852297437b9ec333d367e3e043",
            "261bbf9e9289473d90101d235232ff7b",
            "73f8b3b8e7c846819185054634dda1cd",
            "732449fc38af41ccbd27329fe501c0af",
            "7e3a0ac8dcce4a94a23069fd4ba91948",
            "eaeaf2dc6fcd404e9e33eaf860c75310",
            "17e8f3b9225541ba964140adf33bc266",
            "794568c2d3614d01b811a9047263595f",
            "50eb1bd9384c44358d7ac0543a2d4324",
            "c5b1a9b59b8e4737bffb1b93950f674d",
            "3b8e1d65df0a49369962c50e550d6db9",
            "62a3bdce7881420db143ae4734aa9ec2",
            "3ccc895d432449a2a6b70583ab1930eb",
            "7c10ca38dbb641a9a632c106a81f23e8",
            "96e5c29b4a1649a48f4daf458d482777",
            "4db074c7f0a843fd99ce75e6c856a49d",
            "6e1c75dbc2354f9cb4ee3c74e41e1934",
            "a5c56586878844ad9d654234cbc747a6",
            "5654345f41c341a08f02dafe4de9d0f4",
            "c764fbb0e2714deca67f844e2a81e24e",
            "9365020ee06a48d7be128e1dd3b7c6b4",
            "bbeedf8198d0460c87fb505ce77489eb",
            "1da85aceacd04e25b161e1c2cebf5e50",
            "739b1faad91c4617ab9a5fbd75def1ab",
            "43406129b3b341f58ec57b38646f2c39",
            "0fca3de9c9a64a298e72e91842542e2d",
            "2debd32a5afc4a8090280dba0e0c6a53",
            "1559bf7edda146b5b7c2e1506a758a33",
            "1cc78d17cb714d518be3d25cc4a4bcc1",
            "01d9950686a0473ab7aba306de543fc9",
            "8ccea60414db49f4ba0e914fff99e5c7",
            "b1458ad2de1b466bbdb2071ade65e270",
            "511cd4ce143d4a73907067491417b343",
            "0cfa1da605104d4382dd50b3f5cb97db",
            "639a51b89a6c471da5508c3ba926e8d2",
            "575c3bed2481483b947df85aee20841f",
            "551de83780d840819d56025723c35188",
            "c2d538c58ece4d08ae20a4d9ff232a54",
            "f409a96be09649d691ac69a74359550a",
            "b1c44219d86b40318a6ca24be900fe1a",
            "44e834c929284e55af4be673bcf5ef4b",
            "c4b28c6b62af4c73b8da9da116ebee57",
            "29f66f423c4b444ca587fea6d02f530c",
            "7b8ebc5093304acdb0097f24f360da77",
            "1694814ed33b4a1d8e30fb1c33af7024",
            "2ab2f19cc0914f4b89312f378901884a",
            "8330b6216bd04c7a97904610fa463c5a",
            "d516c9788a554f728ec6877474c37107",
            "da1250ab6dcd443bb43ee0434ea5bd3c",
            "4eaaf19de5404000a9da20748cb40f8c",
            "2ba9f186c9b9467e8859b703656e5408",
            "068c0c6490c6490a83c3bf9eafcfe446",
            "70570e6b1b054e8e899742cc3ee20ab1",
            "340a858cca2e437aa351f2f6252de68a",
            "0e0357cec5f7476c9b198b3a2f4d529c",
            "1d05634d8c0847e299b6f7f44892fa8d",
            "547125db7ec5459c97075e77926a3614",
            "d0f27ddd89ed41ca90fe47646e38cc9b",
            "d73234ddb45c42fe8ecbc3cb7cb27a2b",
            "95a580cce71e415c87436542587e9936",
            "81b2f69df83a4665a71b91ae9fa76dd6",
            "da1a80eba1a2426ea5ba300e96c2dffd",
            "2604b9bbe4fd444f977cee186898d2d2",
            "fc2f6107fe4f47a2ab411077fd3e4879",
            "0b9cb972c5ce44cfa7173eeb70f3434a",
            "5af701466e8a4b1e9a018e49831dd1ba",
            "345e4d5e42ce453196a8825ad173557d",
            "202151d579ee4770ad67395047d28e43",
            "17f8ece409ca499bac116aa5eef5acb6",
            "316f154e86a14e0186f5dc44d004c5be",
            "70d25ae4aa384064962a5f9c0cdda7e6",
            "c452ea19965d49b99d5d22e8571c23df",
            "8957023f6a4f4e1ebf3eaedd8b8611d3",
            "af9dcc7b74bb4b0a8cdf1fbf85009877",
            "5a938a439c9c44a39fc1dc6ae363ef75",
            "b2996c1098c24b24ae7af973535980eb",
            "a414f9f08000483b833dac9b2b0ecec4",
            "789df14ca18142098aa4f1453fbd5ecd",
            "7d15d5ec6ffb42bdaf75203b8be5d339",
            "fab17685b1d3459aa97328b29571451f",
            "4887a67d15844a28b3865339207f9c66",
            "3a5ffcb7d80342069b01dc06ee98ce2f",
            "bdba94f69c454aeda070ea606dec185e",
            "7d8c3894546b4e809120b5af1649c8df",
            "62c1c305e1d345bf87bf6caaea85bd4c",
            "037abf11aa3b4f0292eace5b27daca81"
          ]
        },
        "id": "bCfJOZ_t72Ne",
        "outputId": "8569bf88-8872-40a1-ec43-0c488061c1ae"
      },
      "outputs": [],
      "source": [
        "dataset_train = load_dataset('cnn_dailymail', '3.0.0', split='train')\n",
        "dataset_train.set_format(type='pandas', columns=['article', 'highlights'])"
      ]
    },
    {
      "cell_type": "code",
      "execution_count": 10,
      "metadata": {
        "id": "7VMWmWT_Wzg8"
      },
      "outputs": [],
      "source": [
        "# Convert to pandas DataFrame\n",
        "df = dataset_train.to_pandas()"
      ]
    },
    {
      "cell_type": "markdown",
      "metadata": {
        "id": "tbJHhoVjnLj6"
      },
      "source": [
        "## Excerpt of article and ground truth of summary\n",
        "\n",
        "\n"
      ]
    },
    {
      "cell_type": "code",
      "execution_count": null,
      "metadata": {
        "colab": {
          "base_uri": "https://localhost:8080/"
        },
        "id": "asiwMOOC7_O5",
        "outputId": "b6487ae0-f694-4aec-d0a9-1db86aad04a8"
      },
      "outputs": [],
      "source": [
        "# Access first row using iloc\n",
        "sample = df.iloc[0]\n",
        "\n",
        "excerpt = 1000\n",
        "\n",
        "print(f\"\\033[1mExcerpt of {excerpt} characters, total length of article: \\\n",
        "{len(sample['article'])}:\\033[0m\\n\")\n",
        "\n",
        "print(sample[\"article\"][:excerpt])\n",
        "print(f\"\\033[1m\\n\\nSummary (length: {len(sample['highlights'])}):\\033[0m\\n\")\n",
        "print(sample[\"highlights\"])\n"
      ]
    },
    {
      "cell_type": "code",
      "execution_count": null,
      "metadata": {
        "colab": {
          "base_uri": "https://localhost:8080/"
        },
        "id": "U8mQZi889ban",
        "outputId": "1e395a7a-30a0-45ba-bb4d-f9b165f7bafd"
      },
      "outputs": [],
      "source": [
        "import numpy as np\n",
        "articles_np= np.array(dataset_train['article'])\n",
        "articles_np.shape"
      ]
    },
    {
      "cell_type": "code",
      "execution_count": null,
      "metadata": {
        "colab": {
          "base_uri": "https://localhost:8080/"
        },
        "id": "6Fq9mjuZ8d3E",
        "outputId": "9b83e479-cd6e-4268-f676-9d94ba6e4aac"
      },
      "outputs": [],
      "source": [
        "articles_np_1 = articles_np[:1]\n",
        "articles_np_1.shape"
      ]
    },
    {
      "cell_type": "code",
      "execution_count": null,
      "metadata": {
        "colab": {
          "base_uri": "https://localhost:8080/"
        },
        "id": "zz3rwLgS9qa5",
        "outputId": "ce0c3a7b-9849-45da-f933-025dd663e31b"
      },
      "outputs": [],
      "source": [
        "articles_np_1"
      ]
    },
    {
      "cell_type": "markdown",
      "metadata": {
        "id": "TbuQUiFHnhmM"
      },
      "source": [
        "## Establishing a baseline:\n",
        "### Applying TextRank algorithm to CNN/Daily mail dataset"
      ]
    },
    {
      "cell_type": "markdown",
      "metadata": {
        "id": "hKk1I9ppUNi-"
      },
      "source": [
        "\n",
        "TextRank is a good choice as a baseline algorithm for text summarization because it is unsupervised, easy to implement, and computationally efficient. It provides a simple yet effective way to extract key phrases and rank sentences based on their importance within the text. Compared to other baseline choices, such as lead-3 (selecting the first three sentences) or simple frequency-based methods, TextRank offers a more sophisticated approach by capturing the relationships between sentences and their relevance to the overall text, giving a better starting point for comparison with advanced methods like Transformer-based models.\n",
        "\n",
        "This code snippet is used to generate summaries for a collection of texts (in this case, news article) using the TextRank algorithm. The TextRank summarization is implemented with the summa library, which is available on [PyPI](https://pypi.org/project/summa/). The implementation is based on the paper Mihalcea, R., Tarau, P.: [“TextRank: Bringing order into texts”](https://aclanthology.org/W04-3252/)\n",
        "\n",
        "A `summarize_text` function is defined, which takes in two arguments - text and words. text is the input text to be summarized, and words is an optional parameter to specify the target number of words in the generated summary (default is 250 words). The `summarizer.summarize()` function from the summa library is used to generate the summary.\n",
        "\n",
        "The code then employs the multiprocessing Pool class to parallelize the summarization process. This speeds up the computation by taking advantage of multiple CPU cores available on the system. The `Pool()` context manager creates a pool of worker processes, and the `pool.map()` function is used to apply the `summarize_text` function to each element of the `articles_np_1` array (which contains the input articles).\n",
        "\n",
        "The `pool.map()` function distributes the articles across the available worker processes, and each process applies the summarize_text function independently. Once all the summaries are generated, they are collected and stored in the `summarized_articles` list. This parallelization can significantly improve the performance of the TextRank summarization, especially when working with large datasets.\n"
      ]
    },
    {
      "cell_type": "code",
      "execution_count": 19,
      "metadata": {
        "id": "QVuIQytjsEU7"
      },
      "outputs": [],
      "source": [
        "# from summa import summarizer\n",
        "# from multiprocessing import Pool\n",
        "\n",
        "# Define the function to summarize the text\n",
        "def summarize_text(text, words=80):\n",
        "    summary = summarizer.summarize(text, words=words)\n",
        "    return summary\n",
        "\n",
        "\n",
        "\n",
        "# Parallelize the TextRank summarization\n",
        "with Pool() as pool:\n",
        "    summarized_articles = pool.map(summarize_text, articles_np_1)\n"
      ]
    },
    {
      "cell_type": "markdown",
      "metadata": {
        "id": "GkUYrYNwnzG7"
      },
      "source": [
        "### Get summarized article"
      ]
    },
    {
      "cell_type": "code",
      "execution_count": null,
      "metadata": {
        "colab": {
          "base_uri": "https://localhost:8080/"
        },
        "id": "Du-G1Yz29wYL",
        "outputId": "837d97f8-b441-40b9-8892-a97fcaf1faf5"
      },
      "outputs": [],
      "source": [
        "summarized_articles"
      ]
    },
    {
      "cell_type": "code",
      "execution_count": 21,
      "metadata": {
        "id": "1cYq9QIPDey9"
      },
      "outputs": [],
      "source": [
        "references = np.array(dataset_train['highlights'])"
      ]
    },
    {
      "cell_type": "code",
      "execution_count": null,
      "metadata": {
        "colab": {
          "base_uri": "https://localhost:8080/"
        },
        "id": "cguTgWVxBZCy",
        "outputId": "d8f67ddc-39f7-4e0d-c494-f6e029c88820"
      },
      "outputs": [],
      "source": [
        "references_np = np.array(references)\n",
        "references_np[:1]"
      ]
    },
    {
      "cell_type": "code",
      "execution_count": 23,
      "metadata": {
        "id": "0HFQvehJ-Ej_"
      },
      "outputs": [],
      "source": [
        "reference = references[0]"
      ]
    },
    {
      "cell_type": "code",
      "execution_count": null,
      "metadata": {
        "colab": {
          "base_uri": "https://localhost:8080/"
        },
        "id": "RXMcOiNvWz_7",
        "outputId": "ce5185a8-ea2c-4b03-f70f-17dca7c18fe2"
      },
      "outputs": [],
      "source": [
        "print(summarized_articles[0])"
      ]
    },
    {
      "cell_type": "code",
      "execution_count": 25,
      "metadata": {
        "id": "jANpwhitKuD4"
      },
      "outputs": [],
      "source": [
        "summaries = {}\n",
        "summaries['TextRank (Baseline)'] = summarized_articles"
      ]
    },
    {
      "cell_type": "code",
      "execution_count": null,
      "metadata": {
        "colab": {
          "base_uri": "https://localhost:8080/"
        },
        "id": "BtSqhykcg-XG",
        "outputId": "f4472b1a-82d6-46b8-db23-1d4eb95c799b"
      },
      "outputs": [],
      "source": [
        "print(summaries['TextRank (Baseline)'][0])"
      ]
    },
    {
      "cell_type": "markdown",
      "metadata": {
        "id": "56n0hJw3oHrs"
      },
      "source": [
        "# Appyling Transformers to the CNN/Daily mail dataset"
      ]
    },
    {
      "cell_type": "markdown",
      "metadata": {
        "id": "bDeEvqiWWlBD"
      },
      "source": [
        "In this section, we define a function `generate_summary` that takes a `model_name` and a `sample_text` as input and generates a summary of the input text using the specified model. We support multiple summarization models such as:\n",
        "- BART [Modelcard](https://huggingface.co/facebook/bart-large-cnn), [Paper](https://arxiv.org/abs/1910.13461)\n",
        "- T5 [Modelcard](https://huggingface.co/sysresearch101/t5-large-finetuned-xsum-cnn), [Paper](https://arxiv.org/abs/1910.10683)\n",
        "- ProphetNet [Modelcard](), [Paper](https://arxiv.org/abs/2001.04063)\n",
        "- Pegasus [Modelcard](https://huggingface.co/google/pegasus-cnn_dailymail), [Paper](https://arxiv.org/abs/1912.08777)\n",
        "- GPT-2 [Modelcard](https://huggingface.co/gpt2-xl), [Paper](https://cdn.openai.com/better-language-models/language_models_are_unsupervised_multitask_learners.pdf)\n",
        "\n",
        "The function sets up the tokenizer and model based on the given model_name and uses the Hugging Face's pipeline to perform the summarization.\n",
        "\n",
        "For the CNN/Daily Mail dataset use case, we aim to evaluate different transformer models to understand their performance in summarizing news articles. The dataset contains long news articles with associated human-generated summaries, making it a great resource for benchmarking and comparing various summarization models.\n",
        "\n",
        "By using multiple models for summarization, we can gain insights into the strengths and weaknesses of each approach, and understand how they perform in a real-world scenario. This helps us to identify the most suitable model for our specific use case, considering factors such as quality, speed, and resource requirements.\n",
        "\n",
        "The choice of using the Hugging Face's pipeline function allows for a streamlined and easy-to-use interface for handling pre-processing, model inference, and post-processing steps. This simplifies the code and makes it more maintainable and user-friendly, especially for those who may not have extensive experience with transformers or NLP."
      ]
    },
    {
      "cell_type": "code",
      "execution_count": 28,
      "metadata": {
        "id": "iCDTR7w5tTnF"
      },
      "outputs": [],
      "source": [
        "from transformers import set_seed\n",
        "\n",
        "set_seed(42)\n",
        "\n",
        "def generate_summary(model_name, sample_text):\n",
        "    \"\"\"\n",
        "    Generate a summary of the input text using a specified model.\n",
        "\n",
        "    Args:\n",
        "        model_name (str): The name of the model to use for summarization. Supported values are \"BART\", \"T5\",\n",
        "            \"ProphetNet\".\n",
        "        sample_text (str): The input text to summarize.\n",
        "\n",
        "    Returns:\n",
        "        str: The summary generated by the specified model.\n",
        "\n",
        "    Raises:\n",
        "        ValueError: If the specified model is not supported.\n",
        "\n",
        "\n",
        "    Example:\n",
        "        >>> generate_summary(\"BART\", \"This is an example text to summarize using BART.\")\n",
        "        'BART is used to summarize the input text.'\n",
        "    \"\"\"\n",
        "\n",
        "    # Set up tokenizer and model\n",
        "    model_dict = {\n",
        "        \"BART\": \"facebook/bart-large-cnn\",\n",
        "        \"T5\": \"sysresearch101/t5-large-finetuned-xsum-cnn\",\n",
        "        \"ProphetNet\": \"microsoft/prophetnet-large-uncased-cnndm\"\n",
        "    }\n",
        "\n",
        "    if model_name in model_dict.keys():\n",
        "        tokenizer = AutoTokenizer.from_pretrained(model_dict[model_name])\n",
        "        model = AutoModelForSeq2SeqLM.from_pretrained(model_dict[model_name])\n",
        "        summarization_pipeline = pipeline(\"summarization\", tokenizer=tokenizer, model=model)\n",
        "        # Generate summary using the specified model\n",
        "        summarization_output = summarization_pipeline(sample_text, max_length=100)\n",
        "        summary = summarization_output[0][\"summary_text\"]\n",
        "    else:\n",
        "        raise ValueError(f\"Model {model_name} is not supported.\")\n",
        "\n",
        "    return summary\n"
      ]
    },
    {
      "cell_type": "markdown",
      "metadata": {
        "id": "I_7HQQKepVrw"
      },
      "source": [
        "## Generate summary from  <font color='red'>\"BART\"</font> model"
      ]
    },
    {
      "cell_type": "code",
      "execution_count": null,
      "metadata": {
        "colab": {
          "base_uri": "https://localhost:8080/",
          "height": 87
        },
        "id": "_GbRC8FX0Fgd",
        "outputId": "0d0b35cb-061d-4a4f-f688-be4c573e3038"
      },
      "outputs": [],
      "source": [
        "summaries[\"BART\"] = generate_summary(\"BART\", sample_text)\n",
        "summaries[\"BART\"]"
      ]
    },
    {
      "cell_type": "markdown",
      "metadata": {
        "id": "wYV1aTalpeMq"
      },
      "source": [
        "## Generate summary from  <font color='red'>\"T5\"</font> model"
      ]
    },
    {
      "cell_type": "code",
      "execution_count": null,
      "metadata": {
        "colab": {
          "base_uri": "https://localhost:8080/",
          "height": 107
        },
        "id": "bxuDO-sl0GJF",
        "outputId": "f952fdbe-e833-4476-d91c-3dbc56cf808b"
      },
      "outputs": [],
      "source": [
        "summaries[\"T5\"] = generate_summary(\"T5\", sample_text)\n",
        "summaries[\"T5\"]"
      ]
    },
    {
      "cell_type": "markdown",
      "metadata": {
        "id": "aXdzjMvqpihJ"
      },
      "source": [
        "## Generate summary from  <font color='red'>\"ProphetNet\"</font> model"
      ]
    },
    {
      "cell_type": "code",
      "execution_count": null,
      "metadata": {
        "id": "hve3X4st0fQa"
      },
      "outputs": [],
      "source": [
        "summaries[\"ProphetNet\"] = generate_summary(\"ProphetNet\", sample_text)"
      ]
    },
    {
      "cell_type": "markdown",
      "metadata": {
        "id": "d-9nNXjkppDh"
      },
      "source": [
        "## Evaluate all models incl. baseline on CNN/Daily mail dataset"
      ]
    },
    {
      "cell_type": "markdown",
      "metadata": {
        "id": "wmMdUDALad91"
      },
      "source": [
        "### Evaluating Summarization Models using ROUGE and BLEU Metrics\n",
        "\n",
        "In this section, we demonstrate how to evaluate the summarization models using both the ROUGE and BLEU metrics. We use the Hugging Face's implementation of these metrics.\n",
        "\n",
        "ROUGE, or Recall-Oriented Understudy for Gisting Evaluation, is a set of metrics and a software package used for evaluating automatic summarization and machine translation software in natural language processing. The metrics compare an automatically produced summary or translation against a reference or a set of references (human-produced) summary or translation. Note that ROUGE is case insensitive, meaning that upper case letters are treated the same way as lower case letters.\n",
        "[Link](https://huggingface.co/spaces/evaluate-metric/rouge)\n",
        "\n",
        "BLEU, or Bilingual Evaluation Understudy, is an evaluation metric used primarily for machine translation. It measures the similarity between a candidate translation and a set of reference translations, considering both the n-gram precision and a brevity penalty factor.\n",
        "[Link](https://huggingface.co/spaces/evaluate-metric/google_bleu)\n",
        "\n",
        "[Info about Huggingface evaluate](https://huggingface.co/docs/evaluate/v0.4.0/en/package_reference/loading_methods#evaluate.load)\n",
        "<br> <br>\n",
        "\n",
        "__Note:__ It can be beneficial to use both ROUGE and BLEU metrics for evaluation, as they focus on different aspects of the generated summaries. ROUGE is recall-oriented and mainly focuses on the coverage of important content, while BLEU is precision-oriented and evaluates the fluency and correctness of the generated text.\n",
        "\n",
        "It is important to have an understanding of what constitutes a \"good\" score when evaluating summarization models. Here are some guidelines for interpreting the ROUGE and BLEU scores:\n",
        "\n",
        "__ROUGE Scores__\n",
        "\n",
        "ROUGE scores usually range from 0 to 1, with 1 being a perfect match between the generated summary and the reference summary. In practice, scores closer to 1 are rare, especially for abstractive summarization tasks.\n",
        "\n",
        "For a simple baseline model like TextRank or LSA, a \"good\" ROUGE score can be around 0.3 to 0.4. For more advanced Transformer-based models like BART, T5, or Pegasus, a \"good\" ROUGE score can range from 0.4 to 0.6, depending on the task and dataset. State-of-the-art models can achieve even higher scores, but it's important to keep in mind that ROUGE scores are just one aspect of evaluating the quality of generated summaries.\n",
        "\n",
        "There exist different variants of ROUGE, which consider different aspects of the summaries, such as n-grams and the longest common subsequence.\n",
        "\n",
        "\n",
        "__BLEU Scores__\n",
        "\n",
        "BLEU scores also range from 0 to 1, with 1 indicating a perfect match between the generated text and the reference text. However, BLEU scores tend to be lower compared to ROUGE scores, as they are more sensitive to the differences in word order and phrasing.\n",
        "\n",
        "For a simple baseline model, a \"good\" BLEU score could be around 0.1 to 0.2. For Transformer-based models, a \"good\" BLEU score might range from 0.2 to 0.4, again depending on the task and dataset. State-of-the-art models can achieve higher scores, but just like with ROUGE, it's essential to consider other factors when evaluating the quality of generated summaries.\n",
        "\n",
        "Keep in mind that these are rough guidelines, and the definition of a \"good\" score can vary depending on the specific domain, dataset, and evaluation criteria. It is always a good idea to compare your model's scores with scores from existing state-of-the-art models on the same dataset to get a better understanding of its performance.\n",
        "\n",
        "\n",
        "__Defining the SummarizationMetrics Class__\n",
        "\n",
        "The SummarizationMetrics class is defined with methods for computing the ROUGE and BLEU metrics, as well as a method to compute both metrics together:\n",
        "\n",
        "`class SummarizationMetrics:\n",
        "    ...\n",
        "`\n",
        "\n",
        "This class is located in the `utils.py` file, feel free to look it up to get a better understanding how the mectrics are computed.\n",
        "\n",
        "__Computing Metrics__\n",
        "\n",
        "To compute the metrics, we first instantiate the SummarizationMetrics class:\n",
        "`evaluator = SummarizationMetrics()\n",
        "`\n",
        "\n",
        "Then, we call the compute_sum_metric method on the evaluator object, passing the generated summaries and the reference summary:\n",
        "`metrics_df = evaluator.compute_sum_metric(summaries, reference)\n",
        "`\n",
        "\n",
        "The compute_sum_metric method computes both the ROUGE and BLEU metrics by calling the `compute_rouge_metrics` and `compute_google_bleu_metrics` methods, respectively. The resulting metrics are combined into a single DataFrame and returned.\n",
        "\n",
        "__Viewing the Metrics__\n",
        "\n",
        "We can display the resulting metrics DataFrame to see the evaluation scores for each model:\n",
        "`metrics_df\n",
        "`\n",
        "\n",
        "This DataFrame shows the ROUGE and BLEU scores for each summarization model, allowing for an easy comparison of their performance.\n",
        "\n",
        "\n",
        "__Note:__ It's crucial to understand that evaluating a summarization model based on just one text example from a testing dataset is not enough to determine its overall performance. The reason behind this is that the complexity of the text samples can vary significantly within a dataset. Some text samples might be easier for a model to summarize, while others could be more challenging, containing complex sentence structures, domain-specific jargon, or long and convoluted narratives.\n",
        "\n",
        "To get a more comprehensive sense of a model's performance, it is essential to evaluate it on a larger number of samples from the testing dataset. By doing so, we can ensure that we're assessing the model's ability to handle a diverse set of inputs, including those that differ in complexity, topic, and structure. This approach provides a more reliable and generalizable evaluation of the model's performance, helping us to better understand its strengths and weaknesses.\n",
        "\n",
        "In the next section of this notebook, we will expand our evaluation to include multiple text samples from the testing dataset. This will give us a better understanding of how well the model performs across a variety of inputs and allow us to make more informed decisions about its applicability to real-world use cases."
      ]
    },
    {
      "cell_type": "code",
      "execution_count": null,
      "metadata": {
        "colab": {
          "base_uri": "https://localhost:8080/",
          "height": 241
        },
        "id": "1ajjw6rcKyQ7",
        "outputId": "8f9fd08e-10b2-4f91-c8ff-6c148a002e91"
      },
      "outputs": [],
      "source": [
        "evaluator = SummarizationMetrics()\n",
        "\n",
        "metrics_df = evaluator.compute_sum_metric(summaries, reference)\n",
        "\n",
        "metrics_df\n"
      ]
    },
    {
      "cell_type": "markdown",
      "metadata": {
        "id": "lVF6y2fHpxxq"
      },
      "source": [
        "## Compare all model summaries incl. baseline on CNN/Daily mail dataset"
      ]
    },
    {
      "cell_type": "code",
      "execution_count": null,
      "metadata": {
        "colab": {
          "base_uri": "https://localhost:8080/"
        },
        "id": "SCKXQBmLEJ9Z",
        "outputId": "36d272a7-8481-4409-9aae-a8033641c1e9"
      },
      "outputs": [],
      "source": [
        "print_summaries(summaries, reference)"
      ]
    },
    {
      "cell_type": "markdown",
      "metadata": {
        "id": "6zHUklGIHgdH"
      },
      "source": [
        "# Use case arxiv: scientic paper summarization"
      ]
    },
    {
      "cell_type": "code",
      "execution_count": null,
      "metadata": {
        "colab": {
          "base_uri": "https://localhost:8080/"
        },
        "id": "rNCBim3kqpim",
        "outputId": "d47e19a4-e967-462f-b1e1-427b09f164f4"
      },
      "outputs": [],
      "source": [
        "# Load the dataset\n",
        "test_dataset = load_dataset(\"scientific_papers\", \"arxiv\", split=\"test\")\n",
        "test_dataset.set_format(type='pandas', columns=['article', 'abstract'])\n"
      ]
    },
    {
      "cell_type": "code",
      "execution_count": null,
      "metadata": {
        "id": "kKeK_tGBLy8x"
      },
      "outputs": [],
      "source": [
        "# Convert to pandas DataFrame\n",
        "df = test_dataset.to_pandas()"
      ]
    },
    {
      "cell_type": "code",
      "execution_count": null,
      "metadata": {
        "id": "jR5eiagzL7gt"
      },
      "outputs": [],
      "source": [
        "sample = df.iloc[0]"
      ]
    },
    {
      "cell_type": "code",
      "execution_count": null,
      "metadata": {
        "colab": {
          "base_uri": "https://localhost:8080/"
        },
        "id": "NB2XZtxlL9MP",
        "outputId": "36e0d45d-29ae-4724-e6c8-9f2e38419ba2"
      },
      "outputs": [],
      "source": [
        "excerpt = 1500\n",
        "\n",
        "print(f\"\\033[1mExcerpt of {excerpt} characters, total length of article: \\\n",
        "{len(sample['article'])}:\\033[0m\\n\")\n",
        "\n",
        "print(sample[\"article\"][:excerpt])\n",
        "print(f\"\\033[1m\\n\\nSummary (length: {len(sample['abstract'])}):\\033[0m\\n\")\n",
        "print(sample[\"abstract\"])\n"
      ]
    },
    {
      "cell_type": "code",
      "execution_count": null,
      "metadata": {
        "colab": {
          "base_uri": "https://localhost:8080/"
        },
        "id": "igISon07DO5z",
        "outputId": "7a76f018-2bde-47b4-b303-2c2edac23a90"
      },
      "outputs": [],
      "source": [
        "# Convert the pandas series to a numpy array\n",
        "papers_np = test_dataset[\"article\"].to_numpy()\n",
        "\n",
        "papers_np.shape"
      ]
    },
    {
      "cell_type": "code",
      "execution_count": null,
      "metadata": {
        "colab": {
          "base_uri": "https://localhost:8080/"
        },
        "id": "QFGRMKbRDqQq",
        "outputId": "724e03d1-7c5a-4236-f4ea-cb4f4583eacb"
      },
      "outputs": [],
      "source": [
        "papers_np_1 = papers_np[:1]\n",
        "papers_np_1.shape"
      ]
    },
    {
      "cell_type": "code",
      "execution_count": null,
      "metadata": {
        "id": "ZVE-q0VtDlh6"
      },
      "outputs": [],
      "source": [
        "# Define a new function with the `words` argument fixed to 120\n",
        "summarize_text_120 = partial(summarize_text, words=120)\n",
        "\n",
        "# Parallelize the TextRank summarization\n",
        "with Pool() as pool:\n",
        "    summarized_articles = pool.map(summarize_text_120, papers_np_1)"
      ]
    },
    {
      "cell_type": "code",
      "execution_count": null,
      "metadata": {
        "id": "jiOqDFgfD31M"
      },
      "outputs": [],
      "source": [
        "references_arxiv = test_dataset[\"abstract\"][:1].tolist()"
      ]
    },
    {
      "cell_type": "code",
      "execution_count": null,
      "metadata": {
        "id": "RN_DtQyGEN7W"
      },
      "outputs": [],
      "source": [
        "references_arxiv = np.array(test_dataset[\"abstract\"])"
      ]
    },
    {
      "cell_type": "code",
      "execution_count": null,
      "metadata": {
        "colab": {
          "base_uri": "https://localhost:8080/"
        },
        "id": "LyvDAaaDEN7W",
        "outputId": "471a7ba7-98df-4348-8ad2-41e63ce53301"
      },
      "outputs": [],
      "source": [
        "references_arxiv_np = np.array(references_arxiv)\n",
        "print(references_arxiv_np[:1])"
      ]
    },
    {
      "cell_type": "code",
      "execution_count": null,
      "metadata": {
        "id": "PPplCmDFEN7W"
      },
      "outputs": [],
      "source": [
        "reference = references_arxiv[0]"
      ]
    },
    {
      "cell_type": "code",
      "execution_count": null,
      "metadata": {
        "colab": {
          "base_uri": "https://localhost:8080/"
        },
        "id": "TZgbvwUuLA5r",
        "outputId": "0bcab855-0829-4de9-8e46-55c052eb615c"
      },
      "outputs": [],
      "source": [
        "print(reference)"
      ]
    },
    {
      "cell_type": "code",
      "execution_count": null,
      "metadata": {
        "colab": {
          "base_uri": "https://localhost:8080/"
        },
        "id": "fjjHEtzZEN7W",
        "outputId": "4a6c8d1b-0ab5-48f6-8b77-11e52992ba10"
      },
      "outputs": [],
      "source": [
        "print(summarized_articles[0])"
      ]
    },
    {
      "cell_type": "code",
      "execution_count": null,
      "metadata": {
        "id": "H7eTonZLLmiw"
      },
      "outputs": [],
      "source": [
        "sample_text = sample[0]"
      ]
    },
    {
      "cell_type": "code",
      "execution_count": null,
      "metadata": {
        "id": "_7RfkhgtRpCb"
      },
      "outputs": [],
      "source": [
        "summaries_arxiv = {}\n",
        "summaries_arxiv['TextRank (Baseline)'] = summarized_articles"
      ]
    },
    {
      "cell_type": "markdown",
      "metadata": {
        "id": "dZRMfTHGWJV7"
      },
      "source": [
        "## Generate summary from  <font color='red'>\"BigBirdPegasus\"</font> model"
      ]
    },
    {
      "cell_type": "markdown",
      "metadata": {
        "id": "ePiFNa8mWjaN"
      },
      "source": [
        "BigBird, is a sparse-attention based transformer which extends Transformer based models, such as BERT to much longer sequences. Moreover, BigBird comes along with a theoretical understanding of the capabilities of a complete transformer that the sparse model can handle. BigBird was introduced in this [paper](https://arxiv.org/abs/2007.14062).\n",
        "<br><br>\n",
        "\n",
        "__Model description__\n",
        "\n",
        "BigBird relies on block sparse attention instead of normal attention (i.e. BERT's attention) and can handle sequences up to a length of 4096 at a much lower compute cost compared to BERT. It has achieved SOTA on various tasks involving very long sequences such as long documents summarization, question-answering with long contexts.\n",
        "\n",
        "The models checkpoint is obtained after fine-tuning BigBirdPegasusForConditionalGeneration for summarization on arxiv dataset from scientific papers."
      ]
    },
    {
      "cell_type": "code",
      "execution_count": null,
      "metadata": {
        "colab": {
          "base_uri": "https://localhost:8080/"
        },
        "id": "Zx_YFmpIKVON",
        "outputId": "ab1a44e1-0819-4f54-cb07-43f876b7e106"
      },
      "outputs": [],
      "source": [
        "tokenizer = AutoTokenizer.from_pretrained(\"google/bigbird-pegasus-large-arxiv\")\n",
        "\n",
        "# by default encoder-attention is `block_sparse` with num_random_blocks=3, block_size=64\n",
        "model = BigBirdPegasusForConditionalGeneration.from_pretrained(\"google/bigbird-pegasus-large-arxiv\")\n",
        "\n",
        "# decoder attention type can't be changed & will be \"original_full\"\n",
        "# you can change `attention_type` (encoder only) to full attention like this:\n",
        "model = BigBirdPegasusForConditionalGeneration.from_pretrained(\"google/bigbird-pegasus-large-arxiv\", attention_type=\"original_full\")\n",
        "\n",
        "# you can change `block_size` & `num_random_blocks` like this:\n",
        "model = BigBirdPegasusForConditionalGeneration.from_pretrained(\"google/bigbird-pegasus-large-arxiv\", block_size=16, num_random_blocks=2)\n",
        "\n",
        "text = sample_text\n",
        "inputs = tokenizer.encode_plus(text, return_tensors='pt',max_length=4096, truncation=True)\n",
        "prediction = model.generate(**inputs)\n",
        "prediction = tokenizer.batch_decode(prediction)"
      ]
    },
    {
      "cell_type": "code",
      "execution_count": null,
      "metadata": {
        "id": "jXm6KAvZMzOm"
      },
      "outputs": [],
      "source": [
        "summaries_arxiv['bigbird-pegasus'] = prediction"
      ]
    },
    {
      "cell_type": "code",
      "execution_count": null,
      "metadata": {
        "colab": {
          "base_uri": "https://localhost:8080/",
          "height": 122
        },
        "id": "Xu663-Y-UrIv",
        "outputId": "4648362a-6fd6-414c-8f96-70dd1074e9bc"
      },
      "outputs": [],
      "source": [
        "summaries_arxiv['bigbird-pegasus'] = summaries_arxiv['bigbird-pegasus'][0]\n",
        "summaries_arxiv['bigbird-pegasus']"
      ]
    },
    {
      "cell_type": "markdown",
      "metadata": {
        "id": "5G5k687DZ6sU"
      },
      "source": [
        "## Generate summary from  <font color='red'>\"Longformer\"</font> model"
      ]
    },
    {
      "cell_type": "markdown",
      "metadata": {
        "id": "D5QDVPd5N5OC"
      },
      "source": [
        "First, it's important to note that the scores, such as ROUGE, for shorter text are generally higher than for longer text. This is because shorter text is easier to summarize accurately, and the metrics can capture the essence of the original text more effectively. In the case of the Longformer, its strong performance on longer text sequences is particularly noteworthy, as it demonstrates the model's ability to handle more complex summarization tasks effectively. This further emphasizes the strength of the Longformer and its potential for various text summarization applications.\n",
        "\n",
        "Comparing the Longformer with other models on longer text, such as the arXiv dataset, can provide valuable insights into their performance. The arXiv dataset consists of scientific articles, which tend to be long and complex, making it an ideal benchmark for text summarization models.\n",
        "\n",
        "For example, BART has achieved good results on the arXiv dataset. However, due to its limitations in handling longer text sequences, it may not be as effective as the Longformer. T5 has also demonstrated competitive performance on longer text summarization tasks, but it may still fall short when compared to the Longformer's capabilities.\n",
        "\n",
        "Models like PEGASUS and BigBird, which have been designed with summarization-specific pre-training objectives, have shown promise on long text summarization tasks as well. However, as mentioned earlier, the Longformer outperforms these models despite not having a summarization-specific pre-training objective.\n",
        "\n",
        "In summary, while other models have demonstrated varying levels of success on longer text summarization tasks such as the arXiv dataset, the Longformer stands out due to its ability to handle longer text sequences effectively and achieve high scores on various metrics, such as ROUGE.\n",
        "\n",
        "The [official paper](https://arxiv.org/pdf/2004.05150.pdf) reports a new state-of-the-art __ROUGE-2 score of 19.62__ on the whole test dataset (WikiLingua dataset) which aligns very well with our observation here. LED significantly outperforms [PEGASUS](https://huggingface.co/transformers/model_doc/pegasus.html) and also slightly outperforms [BigBird](https://arxiv.org/abs/2007.14062) despite *PEGASUS* and\n",
        "*BigBird* making use of a \"summarization-specific\" pre-training objective.\n",
        "\n",
        "As a comparison, BART achieved a __ROUGE-2 score of 17.50__ on the arXiv dataset. It's important to note that these scores are for the standard BART model, which has limitations in handling longer text sequences."
      ]
    },
    {
      "cell_type": "code",
      "execution_count": null,
      "metadata": {
        "colab": {
          "base_uri": "https://localhost:8080/",
          "height": 122
        },
        "id": "v8sZ5SLlX6n_",
        "outputId": "07c6747f-10d6-4f00-a71b-55d628917d17"
      },
      "outputs": [],
      "source": [
        "LONG_ARTICLE = sample_text\n",
        "LONG_ARTICLE"
      ]
    },
    {
      "cell_type": "code",
      "execution_count": null,
      "metadata": {
        "colab": {
          "base_uri": "https://localhost:8080/",
          "height": 122
        },
        "id": "AGMcHXluYTXq",
        "outputId": "a9776c01-aba7-4ff8-efe9-d6613437015a"
      },
      "outputs": [],
      "source": [
        "sample_text"
      ]
    },
    {
      "cell_type": "code",
      "execution_count": null,
      "metadata": {
        "id": "jM-4VeDqU3pQ"
      },
      "outputs": [],
      "source": [
        "\n",
        "tokenizer = LEDTokenizer.from_pretrained(\"allenai/led-large-16384-arxiv\")\n",
        "\n",
        "input_ids = tokenizer(LONG_ARTICLE, padding=\"max_length\", max_length=16384, return_tensors=\"pt\", truncation=True).input_ids.to(\"cuda\")\n",
        "global_attention_mask = torch.zeros_like(input_ids)\n",
        "# Put global attention on <s> token\n",
        "global_attention_mask[:, 0] = 1\n",
        "\n",
        "model = LEDForConditionalGeneration.from_pretrained(\"allenai/led-large-16384-arxiv\", return_dict_in_generate=True).to(\"cuda\")\n",
        "\n",
        "sequences = model.generate(input_ids, global_attention_mask=global_attention_mask, max_length=512, num_beams=4).sequences\n",
        "\n",
        "summary = tokenizer.batch_decode(sequences, skip_special_tokens=True)"
      ]
    },
    {
      "cell_type": "code",
      "execution_count": null,
      "metadata": {
        "id": "ssVtvah4Y7K7"
      },
      "outputs": [],
      "source": [
        "summaries_arxiv['Longformer'] = summary"
      ]
    },
    {
      "cell_type": "code",
      "execution_count": null,
      "metadata": {
        "colab": {
          "base_uri": "https://localhost:8080/",
          "height": 122
        },
        "id": "7vDk2AYfZwtl",
        "outputId": "d175885a-9e57-4662-adab-174f350ed813"
      },
      "outputs": [],
      "source": [
        "summaries_arxiv['Longformer'] = summaries_arxiv['Longformer'][0]\n",
        "summaries_arxiv['Longformer']"
      ]
    },
    {
      "cell_type": "code",
      "execution_count": null,
      "metadata": {
        "colab": {
          "base_uri": "https://localhost:8080/",
          "height": 178
        },
        "id": "t6HJloJvSmWC",
        "outputId": "feab709d-4360-4877-d2bd-b2849173d169"
      },
      "outputs": [],
      "source": [
        "metrics_df_arxiv = evaluator.compute_sum_metric(summaries_arxiv, reference)\n",
        "\n",
        "metrics_df_arxiv"
      ]
    },
    {
      "cell_type": "markdown",
      "metadata": {
        "id": "1eVm3rRIbPP1"
      },
      "source": [
        "## Summarizing a Small Dataset using Longformer and `generate_avg_summary`\n",
        "\n",
        "In this section, we demonstrate how to use the `generate_avg_summary` function to generate summaries for a small dataset using the various models. The dataset in this example is assumed to be in the dataset_train variable, which is an instance of Hugging Face's Dataset class.\n",
        "\n",
        "__Selecting a Small Range of Samples__\n",
        "\n",
        "First, we select a small range of samples from the dataset. In this example, we select the first 10 samples:\n",
        "`# Select a small range of samples\n",
        "dataset_small = dataset_train.select(range(10))\n",
        "`\n",
        "\n",
        "__Converting the Dataset to a Pandas DataFrame__\n",
        "Next, we convert the small dataset to a Pandas DataFrame, which provides an easier way to apply the generate_avg_summary function on each article:\n",
        "`# Convert dataset to pandas dataframe\n",
        "df = dataset_small.to_pandas()\n",
        "`\n",
        "\n",
        "__Generating Summaries using Longformer and our baseline, TextRank__\n",
        "\n",
        "Now that we have a DataFrame containing the articles, we can apply the __generate_avg_summary__ function to each article to generate Longformer-based summaries.\n",
        "\n",
        "You can adjust the `.select(range(10)` with different ranges to evaluate less or more articles."
      ]
    },
    {
      "cell_type": "code",
      "execution_count": null,
      "metadata": {
        "id": "nm_Z5Tyb-Z9Z"
      },
      "outputs": [],
      "source": [
        "#tokenizer = LEDTokenizer.from_pretrained(\"allenai/led-large-16384-arxiv\")\n",
        "# model = LEDForConditionalGeneration.from_pretrained(\"allenai/led-large-16384-arxiv\", return_dict_in_generate=True).to(\"cuda\")\n",
        "\n",
        "def generate_avg_summary(article):\n",
        "  input_ids = tokenizer(article, padding=\"max_length\", max_length=16384, return_tensors=\"pt\", truncation=True).input_ids.to(\"cuda\")\n",
        "  global_attention_mask = torch.zeros_like(input_ids)\n",
        "  # Put global attention on <s> token\n",
        "  global_attention_mask[:, 0] = 1\n",
        "\n",
        "  sequences = model.generate(input_ids, global_attention_mask=global_attention_mask, max_length=512, num_beams=4).sequences\n",
        "  summary = tokenizer.batch_decode(sequences, skip_special_tokens=True)\n",
        "\n",
        "  return summary\n"
      ]
    },
    {
      "cell_type": "code",
      "execution_count": null,
      "metadata": {
        "colab": {
          "base_uri": "https://localhost:8080/"
        },
        "id": "A6v1VNnl-b97",
        "outputId": "8f83f5f1-4033-4208-a125-aa188a88288f"
      },
      "outputs": [],
      "source": [
        "# Select a small range of samples\n",
        "# See: https://huggingface.co/docs/datasets/v1.1.1/processing.html\n",
        "dataset_small = test_dataset.select(range(10))\n",
        "\n",
        "# Convert dataset to pandas dataframe\n",
        "df = dataset_small.to_pandas()\n",
        "\n",
        "# Generate summaries for each article\n",
        "df[\"Longformer\"] = df[\"article\"].apply(generate_avg_summary)\n",
        "\n",
        "# Print the summaries\n",
        "print(df[\"Longformer\"])"
      ]
    },
    {
      "cell_type": "code",
      "execution_count": null,
      "metadata": {
        "id": "m_KB9V1X-7sD"
      },
      "outputs": [],
      "source": [
        "rouge = evaluate.load('rouge')\n",
        "bleu = evaluate.load('google_bleu')"
      ]
    },
    {
      "cell_type": "code",
      "execution_count": null,
      "metadata": {
        "colab": {
          "base_uri": "https://localhost:8080/"
        },
        "id": "u4LHJ886Lyvm",
        "outputId": "3f825407-be16-476b-e7b3-6deb8cf460fb"
      },
      "outputs": [],
      "source": [
        "# delete the list data format from each entry\n",
        "df[\"Longformer\"] = df['Longformer'].apply(lambda x: x[0])\n",
        "df[\"Longformer\"]"
      ]
    },
    {
      "cell_type": "code",
      "execution_count": null,
      "metadata": {
        "colab": {
          "base_uri": "https://localhost:8080/"
        },
        "id": "A2ayPpy0SMuo",
        "outputId": "f409c146-95b2-4582-ae97-a2ba44fe559f"
      },
      "outputs": [],
      "source": [
        "# get 10 examples\n",
        "papers_np_10 = papers_np[:10]\n",
        "papers_np_10.shape"
      ]
    },
    {
      "cell_type": "code",
      "execution_count": null,
      "metadata": {
        "id": "iUQVRzGNSMup"
      },
      "outputs": [],
      "source": [
        "# Define a new function with the `words` argument fixed to 120\n",
        "summarize_text_120 = partial(summarize_text, words=120)\n",
        "\n",
        "# Parallelize the TextRank summarization\n",
        "with Pool() as pool:\n",
        "    summarized_articles = pool.map(summarize_text_120, papers_np_10)"
      ]
    },
    {
      "cell_type": "code",
      "execution_count": null,
      "metadata": {
        "id": "h119uhb8Sd58"
      },
      "outputs": [],
      "source": [
        "df['TextRank (Baseline)'] = summarized_articles"
      ]
    },
    {
      "cell_type": "code",
      "execution_count": null,
      "metadata": {
        "id": "4etJhiQ4Q_wB"
      },
      "outputs": [],
      "source": [
        "# convert to proper format to compute rouge metric\n",
        "predictions = df[\"Longformer\"].tolist()\n",
        "references = df['abstract'].tolist()\n",
        "results_longformer = rouge.compute(predictions=predictions,\n",
        "                         references=references)\n",
        "results_longformer_bleu = bleu.compute(predictions=predictions,\n",
        "                         references=references)"
      ]
    },
    {
      "cell_type": "code",
      "execution_count": null,
      "metadata": {
        "colab": {
          "base_uri": "https://localhost:8080/"
        },
        "id": "R-StCrMFK2j7",
        "outputId": "1d66b455-b0d0-4a81-fd70-7439a847e671"
      },
      "outputs": [],
      "source": [
        "results_longformer_bleu\n"
      ]
    },
    {
      "cell_type": "code",
      "execution_count": null,
      "metadata": {
        "id": "2ElsIpKvSyiC"
      },
      "outputs": [],
      "source": [
        "# convert to proper format to compute rouge metric\n",
        "predictions = df['TextRank (Baseline)'].tolist()\n",
        "references = df['abstract'].tolist()\n",
        "results_text_rank = rouge.compute(predictions=predictions,\n",
        "                         references=references)\n",
        "results_text_rank_bleu = bleu.compute(predictions=predictions,\n",
        "                         references=references)"
      ]
    },
    {
      "cell_type": "code",
      "execution_count": null,
      "metadata": {
        "id": "Ih7mHOcUKzy6"
      },
      "outputs": [],
      "source": [
        "# Get the value for TextRank\n",
        "textRank_value = results_text_rank_bleu[\"google_bleu\"]\n",
        "longformer_value = results_longformer_bleu[\"google_bleu\"]"
      ]
    },
    {
      "cell_type": "code",
      "execution_count": null,
      "metadata": {
        "colab": {
          "base_uri": "https://localhost:8080/"
        },
        "id": "tV7fn8tlMOJw",
        "outputId": "ff84ceb1-3614-48bf-b1b6-298eb758df0c"
      },
      "outputs": [],
      "source": [
        "results_text_rank_bleu"
      ]
    },
    {
      "cell_type": "code",
      "execution_count": null,
      "metadata": {
        "colab": {
          "base_uri": "https://localhost:8080/",
          "height": 112
        },
        "id": "cNsk56OhS1-p",
        "outputId": "836fc5e4-6019-42a0-de1e-617c160e2b83"
      },
      "outputs": [],
      "source": [
        "metrics = pd.DataFrame([results_text_rank, results_longformer], index=['TextRank (Baseline)', 'Longformer'])\n",
        "metrics"
      ]
    },
    {
      "cell_type": "code",
      "execution_count": null,
      "metadata": {
        "colab": {
          "base_uri": "https://localhost:8080/",
          "height": 112
        },
        "id": "AZ5Pcc1tLBEI",
        "outputId": "91820ab8-6a99-41c0-a26e-65e25cab1a4a"
      },
      "outputs": [],
      "source": [
        "bleu_scores = [textRank_value, longformer_value]\n",
        "\n",
        "# Using 'Address' as the column name\n",
        "# and equating it to the list\n",
        "metrics['google_bleu'] = bleu_scores\n",
        "metrics"
      ]
    },
    {
      "cell_type": "markdown",
      "metadata": {
        "id": "J9AbMdQxJCHM"
      },
      "source": [
        "# Display Model Configuration"
      ]
    },
    {
      "cell_type": "code",
      "execution_count": null,
      "metadata": {
        "colab": {
          "base_uri": "https://localhost:8080/"
        },
        "id": "jRJqDm2OUJ0u",
        "outputId": "db3faf12-7963-469d-c212-fb562afce771"
      },
      "outputs": [],
      "source": [
        "# Load the configuration\n",
        "config = BartConfig.from_pretrained(\"facebook/bart-large-cnn\")\n",
        "\n",
        "# Load the model with the specified configuration\n",
        "model = BartForConditionalGeneration.from_pretrained(\"facebook/bart-large-cnn\", config=config)\n",
        "\n",
        "# Print the model configuration\n",
        "print(model.config)\n"
      ]
    },
    {
      "cell_type": "code",
      "execution_count": null,
      "metadata": {
        "colab": {
          "base_uri": "https://localhost:8080/"
        },
        "id": "5-WxaTnTFYZs",
        "outputId": "475627f7-55ea-4ce0-b0e5-64349f1adcc9"
      },
      "outputs": [],
      "source": [
        "# Load the configuration\n",
        "config = LEDConfig.from_pretrained(\"allenai/led-large-16384-arxiv\")\n",
        "\n",
        "# Load the model with the specified configuration\n",
        "model = LEDForConditionalGeneration.from_pretrained(\"allenai/led-large-16384-arxiv\", config=config)\n",
        "\n",
        "# Print the model configuration\n",
        "print(model.config)\n"
      ]
    },
    {
      "cell_type": "code",
      "execution_count": null,
      "metadata": {
        "id": "TjT1cNmg173Y"
      },
      "outputs": [],
      "source": []
    }
  ],
  "metadata": {
    "accelerator": "GPU",
    "colab": {
      "gpuType": "T4",
      "include_colab_link": true,
      "provenance": []
    },
    "kernelspec": {
      "display_name": "Python 3",
      "name": "python3"
    },
    "language_info": {
      "name": "python"
    },
    "widgets": {
      "application/vnd.jupyter.widget-state+json": {
        "01d9950686a0473ab7aba306de543fc9": {
          "model_module": "@jupyter-widgets/base",
          "model_module_version": "1.2.0",
          "model_name": "LayoutModel",
          "state": {
            "_model_module": "@jupyter-widgets/base",
            "_model_module_version": "1.2.0",
            "_model_name": "LayoutModel",
            "_view_count": null,
            "_view_module": "@jupyter-widgets/base",
            "_view_module_version": "1.2.0",
            "_view_name": "LayoutView",
            "align_content": null,
            "align_items": null,
            "align_self": null,
            "border": null,
            "bottom": null,
            "display": null,
            "flex": null,
            "flex_flow": null,
            "grid_area": null,
            "grid_auto_columns": null,
            "grid_auto_flow": null,
            "grid_auto_rows": null,
            "grid_column": null,
            "grid_gap": null,
            "grid_row": null,
            "grid_template_areas": null,
            "grid_template_columns": null,
            "grid_template_rows": null,
            "height": null,
            "justify_content": null,
            "justify_items": null,
            "left": null,
            "margin": null,
            "max_height": null,
            "max_width": null,
            "min_height": null,
            "min_width": null,
            "object_fit": null,
            "object_position": null,
            "order": null,
            "overflow": null,
            "overflow_x": null,
            "overflow_y": null,
            "padding": null,
            "right": null,
            "top": null,
            "visibility": null,
            "width": null
          }
        },
        "037abf11aa3b4f0292eace5b27daca81": {
          "model_module": "@jupyter-widgets/controls",
          "model_module_version": "1.5.0",
          "model_name": "DescriptionStyleModel",
          "state": {
            "_model_module": "@jupyter-widgets/controls",
            "_model_module_version": "1.5.0",
            "_model_name": "DescriptionStyleModel",
            "_view_count": null,
            "_view_module": "@jupyter-widgets/base",
            "_view_module_version": "1.2.0",
            "_view_name": "StyleView",
            "description_width": ""
          }
        },
        "068c0c6490c6490a83c3bf9eafcfe446": {
          "model_module": "@jupyter-widgets/base",
          "model_module_version": "1.2.0",
          "model_name": "LayoutModel",
          "state": {
            "_model_module": "@jupyter-widgets/base",
            "_model_module_version": "1.2.0",
            "_model_name": "LayoutModel",
            "_view_count": null,
            "_view_module": "@jupyter-widgets/base",
            "_view_module_version": "1.2.0",
            "_view_name": "LayoutView",
            "align_content": null,
            "align_items": null,
            "align_self": null,
            "border": null,
            "bottom": null,
            "display": null,
            "flex": null,
            "flex_flow": null,
            "grid_area": null,
            "grid_auto_columns": null,
            "grid_auto_flow": null,
            "grid_auto_rows": null,
            "grid_column": null,
            "grid_gap": null,
            "grid_row": null,
            "grid_template_areas": null,
            "grid_template_columns": null,
            "grid_template_rows": null,
            "height": null,
            "justify_content": null,
            "justify_items": null,
            "left": null,
            "margin": null,
            "max_height": null,
            "max_width": null,
            "min_height": null,
            "min_width": null,
            "object_fit": null,
            "object_position": null,
            "order": null,
            "overflow": null,
            "overflow_x": null,
            "overflow_y": null,
            "padding": null,
            "right": null,
            "top": null,
            "visibility": null,
            "width": null
          }
        },
        "0b9cb972c5ce44cfa7173eeb70f3434a": {
          "model_module": "@jupyter-widgets/controls",
          "model_module_version": "1.5.0",
          "model_name": "HBoxModel",
          "state": {
            "_dom_classes": [],
            "_model_module": "@jupyter-widgets/controls",
            "_model_module_version": "1.5.0",
            "_model_name": "HBoxModel",
            "_view_count": null,
            "_view_module": "@jupyter-widgets/controls",
            "_view_module_version": "1.5.0",
            "_view_name": "HBoxView",
            "box_style": "",
            "children": [
              "IPY_MODEL_5af701466e8a4b1e9a018e49831dd1ba",
              "IPY_MODEL_345e4d5e42ce453196a8825ad173557d",
              "IPY_MODEL_202151d579ee4770ad67395047d28e43"
            ],
            "layout": "IPY_MODEL_17f8ece409ca499bac116aa5eef5acb6"
          }
        },
        "0cfa1da605104d4382dd50b3f5cb97db": {
          "model_module": "@jupyter-widgets/controls",
          "model_module_version": "1.5.0",
          "model_name": "FloatProgressModel",
          "state": {
            "_dom_classes": [],
            "_model_module": "@jupyter-widgets/controls",
            "_model_module_version": "1.5.0",
            "_model_name": "FloatProgressModel",
            "_view_count": null,
            "_view_module": "@jupyter-widgets/controls",
            "_view_module_version": "1.5.0",
            "_view_name": "ProgressView",
            "bar_style": "success",
            "description": "",
            "description_tooltip": null,
            "layout": "IPY_MODEL_f409a96be09649d691ac69a74359550a",
            "max": 34664725,
            "min": 0,
            "orientation": "horizontal",
            "style": "IPY_MODEL_b1c44219d86b40318a6ca24be900fe1a",
            "value": 34664725
          }
        },
        "0e0357cec5f7476c9b198b3a2f4d529c": {
          "model_module": "@jupyter-widgets/controls",
          "model_module_version": "1.5.0",
          "model_name": "HTMLModel",
          "state": {
            "_dom_classes": [],
            "_model_module": "@jupyter-widgets/controls",
            "_model_module_version": "1.5.0",
            "_model_name": "HTMLModel",
            "_view_count": null,
            "_view_module": "@jupyter-widgets/controls",
            "_view_module_version": "1.5.0",
            "_view_name": "HTMLView",
            "description": "",
            "description_tooltip": null,
            "layout": "IPY_MODEL_d73234ddb45c42fe8ecbc3cb7cb27a2b",
            "placeholder": "​",
            "style": "IPY_MODEL_95a580cce71e415c87436542587e9936",
            "value": "Generating train split: 100%"
          }
        },
        "0fca3de9c9a64a298e72e91842542e2d": {
          "model_module": "@jupyter-widgets/base",
          "model_module_version": "1.2.0",
          "model_name": "LayoutModel",
          "state": {
            "_model_module": "@jupyter-widgets/base",
            "_model_module_version": "1.2.0",
            "_model_name": "LayoutModel",
            "_view_count": null,
            "_view_module": "@jupyter-widgets/base",
            "_view_module_version": "1.2.0",
            "_view_name": "LayoutView",
            "align_content": null,
            "align_items": null,
            "align_self": null,
            "border": null,
            "bottom": null,
            "display": null,
            "flex": null,
            "flex_flow": null,
            "grid_area": null,
            "grid_auto_columns": null,
            "grid_auto_flow": null,
            "grid_auto_rows": null,
            "grid_column": null,
            "grid_gap": null,
            "grid_row": null,
            "grid_template_areas": null,
            "grid_template_columns": null,
            "grid_template_rows": null,
            "height": null,
            "justify_content": null,
            "justify_items": null,
            "left": null,
            "margin": null,
            "max_height": null,
            "max_width": null,
            "min_height": null,
            "min_width": null,
            "object_fit": null,
            "object_position": null,
            "order": null,
            "overflow": null,
            "overflow_x": null,
            "overflow_y": null,
            "padding": null,
            "right": null,
            "top": null,
            "visibility": null,
            "width": null
          }
        },
        "1559bf7edda146b5b7c2e1506a758a33": {
          "model_module": "@jupyter-widgets/base",
          "model_module_version": "1.2.0",
          "model_name": "LayoutModel",
          "state": {
            "_model_module": "@jupyter-widgets/base",
            "_model_module_version": "1.2.0",
            "_model_name": "LayoutModel",
            "_view_count": null,
            "_view_module": "@jupyter-widgets/base",
            "_view_module_version": "1.2.0",
            "_view_name": "LayoutView",
            "align_content": null,
            "align_items": null,
            "align_self": null,
            "border": null,
            "bottom": null,
            "display": null,
            "flex": null,
            "flex_flow": null,
            "grid_area": null,
            "grid_auto_columns": null,
            "grid_auto_flow": null,
            "grid_auto_rows": null,
            "grid_column": null,
            "grid_gap": null,
            "grid_row": null,
            "grid_template_areas": null,
            "grid_template_columns": null,
            "grid_template_rows": null,
            "height": null,
            "justify_content": null,
            "justify_items": null,
            "left": null,
            "margin": null,
            "max_height": null,
            "max_width": null,
            "min_height": null,
            "min_width": null,
            "object_fit": null,
            "object_position": null,
            "order": null,
            "overflow": null,
            "overflow_x": null,
            "overflow_y": null,
            "padding": null,
            "right": null,
            "top": null,
            "visibility": null,
            "width": null
          }
        },
        "1694814ed33b4a1d8e30fb1c33af7024": {
          "model_module": "@jupyter-widgets/controls",
          "model_module_version": "1.5.0",
          "model_name": "FloatProgressModel",
          "state": {
            "_dom_classes": [],
            "_model_module": "@jupyter-widgets/controls",
            "_model_module_version": "1.5.0",
            "_model_name": "FloatProgressModel",
            "_view_count": null,
            "_view_module": "@jupyter-widgets/controls",
            "_view_module_version": "1.5.0",
            "_view_name": "ProgressView",
            "bar_style": "success",
            "description": "",
            "description_tooltip": null,
            "layout": "IPY_MODEL_4eaaf19de5404000a9da20748cb40f8c",
            "max": 30000471,
            "min": 0,
            "orientation": "horizontal",
            "style": "IPY_MODEL_2ba9f186c9b9467e8859b703656e5408",
            "value": 30000471
          }
        },
        "17e8f3b9225541ba964140adf33bc266": {
          "model_module": "@jupyter-widgets/controls",
          "model_module_version": "1.5.0",
          "model_name": "ProgressStyleModel",
          "state": {
            "_model_module": "@jupyter-widgets/controls",
            "_model_module_version": "1.5.0",
            "_model_name": "ProgressStyleModel",
            "_view_count": null,
            "_view_module": "@jupyter-widgets/base",
            "_view_module_version": "1.2.0",
            "_view_name": "StyleView",
            "bar_color": null,
            "description_width": ""
          }
        },
        "17f8ece409ca499bac116aa5eef5acb6": {
          "model_module": "@jupyter-widgets/base",
          "model_module_version": "1.2.0",
          "model_name": "LayoutModel",
          "state": {
            "_model_module": "@jupyter-widgets/base",
            "_model_module_version": "1.2.0",
            "_model_name": "LayoutModel",
            "_view_count": null,
            "_view_module": "@jupyter-widgets/base",
            "_view_module_version": "1.2.0",
            "_view_name": "LayoutView",
            "align_content": null,
            "align_items": null,
            "align_self": null,
            "border": null,
            "bottom": null,
            "display": null,
            "flex": null,
            "flex_flow": null,
            "grid_area": null,
            "grid_auto_columns": null,
            "grid_auto_flow": null,
            "grid_auto_rows": null,
            "grid_column": null,
            "grid_gap": null,
            "grid_row": null,
            "grid_template_areas": null,
            "grid_template_columns": null,
            "grid_template_rows": null,
            "height": null,
            "justify_content": null,
            "justify_items": null,
            "left": null,
            "margin": null,
            "max_height": null,
            "max_width": null,
            "min_height": null,
            "min_width": null,
            "object_fit": null,
            "object_position": null,
            "order": null,
            "overflow": null,
            "overflow_x": null,
            "overflow_y": null,
            "padding": null,
            "right": null,
            "top": null,
            "visibility": null,
            "width": null
          }
        },
        "1cc78d17cb714d518be3d25cc4a4bcc1": {
          "model_module": "@jupyter-widgets/controls",
          "model_module_version": "1.5.0",
          "model_name": "ProgressStyleModel",
          "state": {
            "_model_module": "@jupyter-widgets/controls",
            "_model_module_version": "1.5.0",
            "_model_name": "ProgressStyleModel",
            "_view_count": null,
            "_view_module": "@jupyter-widgets/base",
            "_view_module_version": "1.2.0",
            "_view_name": "StyleView",
            "bar_color": null,
            "description_width": ""
          }
        },
        "1d05634d8c0847e299b6f7f44892fa8d": {
          "model_module": "@jupyter-widgets/controls",
          "model_module_version": "1.5.0",
          "model_name": "FloatProgressModel",
          "state": {
            "_dom_classes": [],
            "_model_module": "@jupyter-widgets/controls",
            "_model_module_version": "1.5.0",
            "_model_name": "FloatProgressModel",
            "_view_count": null,
            "_view_module": "@jupyter-widgets/controls",
            "_view_module_version": "1.5.0",
            "_view_name": "ProgressView",
            "bar_style": "success",
            "description": "",
            "description_tooltip": null,
            "layout": "IPY_MODEL_81b2f69df83a4665a71b91ae9fa76dd6",
            "max": 287113,
            "min": 0,
            "orientation": "horizontal",
            "style": "IPY_MODEL_da1a80eba1a2426ea5ba300e96c2dffd",
            "value": 287113
          }
        },
        "1da85aceacd04e25b161e1c2cebf5e50": {
          "model_module": "@jupyter-widgets/controls",
          "model_module_version": "1.5.0",
          "model_name": "FloatProgressModel",
          "state": {
            "_dom_classes": [],
            "_model_module": "@jupyter-widgets/controls",
            "_model_module_version": "1.5.0",
            "_model_name": "FloatProgressModel",
            "_view_count": null,
            "_view_module": "@jupyter-widgets/controls",
            "_view_module_version": "1.5.0",
            "_view_name": "ProgressView",
            "bar_style": "success",
            "description": "",
            "description_tooltip": null,
            "layout": "IPY_MODEL_1559bf7edda146b5b7c2e1506a758a33",
            "max": 259300551,
            "min": 0,
            "orientation": "horizontal",
            "style": "IPY_MODEL_1cc78d17cb714d518be3d25cc4a4bcc1",
            "value": 259300551
          }
        },
        "202151d579ee4770ad67395047d28e43": {
          "model_module": "@jupyter-widgets/controls",
          "model_module_version": "1.5.0",
          "model_name": "HTMLModel",
          "state": {
            "_dom_classes": [],
            "_model_module": "@jupyter-widgets/controls",
            "_model_module_version": "1.5.0",
            "_model_name": "HTMLModel",
            "_view_count": null,
            "_view_module": "@jupyter-widgets/controls",
            "_view_module_version": "1.5.0",
            "_view_name": "HTMLView",
            "description": "",
            "description_tooltip": null,
            "layout": "IPY_MODEL_af9dcc7b74bb4b0a8cdf1fbf85009877",
            "placeholder": "​",
            "style": "IPY_MODEL_5a938a439c9c44a39fc1dc6ae363ef75",
            "value": " 13368/13368 [00:00&lt;00:00, 44903.73 examples/s]"
          }
        },
        "230d9236192d462abe81c5c8db7f1641": {
          "model_module": "@jupyter-widgets/controls",
          "model_module_version": "1.5.0",
          "model_name": "HTMLModel",
          "state": {
            "_dom_classes": [],
            "_model_module": "@jupyter-widgets/controls",
            "_model_module_version": "1.5.0",
            "_model_name": "HTMLModel",
            "_view_count": null,
            "_view_module": "@jupyter-widgets/controls",
            "_view_module_version": "1.5.0",
            "_view_name": "HTMLView",
            "description": "",
            "description_tooltip": null,
            "layout": "IPY_MODEL_732449fc38af41ccbd27329fe501c0af",
            "placeholder": "​",
            "style": "IPY_MODEL_7e3a0ac8dcce4a94a23069fd4ba91948",
            "value": "train-00000-of-00003.parquet: 100%"
          }
        },
        "2604b9bbe4fd444f977cee186898d2d2": {
          "model_module": "@jupyter-widgets/base",
          "model_module_version": "1.2.0",
          "model_name": "LayoutModel",
          "state": {
            "_model_module": "@jupyter-widgets/base",
            "_model_module_version": "1.2.0",
            "_model_name": "LayoutModel",
            "_view_count": null,
            "_view_module": "@jupyter-widgets/base",
            "_view_module_version": "1.2.0",
            "_view_name": "LayoutView",
            "align_content": null,
            "align_items": null,
            "align_self": null,
            "border": null,
            "bottom": null,
            "display": null,
            "flex": null,
            "flex_flow": null,
            "grid_area": null,
            "grid_auto_columns": null,
            "grid_auto_flow": null,
            "grid_auto_rows": null,
            "grid_column": null,
            "grid_gap": null,
            "grid_row": null,
            "grid_template_areas": null,
            "grid_template_columns": null,
            "grid_template_rows": null,
            "height": null,
            "justify_content": null,
            "justify_items": null,
            "left": null,
            "margin": null,
            "max_height": null,
            "max_width": null,
            "min_height": null,
            "min_width": null,
            "object_fit": null,
            "object_position": null,
            "order": null,
            "overflow": null,
            "overflow_x": null,
            "overflow_y": null,
            "padding": null,
            "right": null,
            "top": null,
            "visibility": null,
            "width": null
          }
        },
        "261bbf9e9289473d90101d235232ff7b": {
          "model_module": "@jupyter-widgets/controls",
          "model_module_version": "1.5.0",
          "model_name": "HTMLModel",
          "state": {
            "_dom_classes": [],
            "_model_module": "@jupyter-widgets/controls",
            "_model_module_version": "1.5.0",
            "_model_name": "HTMLModel",
            "_view_count": null,
            "_view_module": "@jupyter-widgets/controls",
            "_view_module_version": "1.5.0",
            "_view_name": "HTMLView",
            "description": "",
            "description_tooltip": null,
            "layout": "IPY_MODEL_794568c2d3614d01b811a9047263595f",
            "placeholder": "​",
            "style": "IPY_MODEL_50eb1bd9384c44358d7ac0543a2d4324",
            "value": " 257M/257M [00:01&lt;00:00, 227MB/s]"
          }
        },
        "29f66f423c4b444ca587fea6d02f530c": {
          "model_module": "@jupyter-widgets/controls",
          "model_module_version": "1.5.0",
          "model_name": "HBoxModel",
          "state": {
            "_dom_classes": [],
            "_model_module": "@jupyter-widgets/controls",
            "_model_module_version": "1.5.0",
            "_model_name": "HBoxModel",
            "_view_count": null,
            "_view_module": "@jupyter-widgets/controls",
            "_view_module_version": "1.5.0",
            "_view_name": "HBoxView",
            "box_style": "",
            "children": [
              "IPY_MODEL_7b8ebc5093304acdb0097f24f360da77",
              "IPY_MODEL_1694814ed33b4a1d8e30fb1c33af7024",
              "IPY_MODEL_2ab2f19cc0914f4b89312f378901884a"
            ],
            "layout": "IPY_MODEL_8330b6216bd04c7a97904610fa463c5a"
          }
        },
        "2ab2f19cc0914f4b89312f378901884a": {
          "model_module": "@jupyter-widgets/controls",
          "model_module_version": "1.5.0",
          "model_name": "HTMLModel",
          "state": {
            "_dom_classes": [],
            "_model_module": "@jupyter-widgets/controls",
            "_model_module_version": "1.5.0",
            "_model_name": "HTMLModel",
            "_view_count": null,
            "_view_module": "@jupyter-widgets/controls",
            "_view_module_version": "1.5.0",
            "_view_name": "HTMLView",
            "description": "",
            "description_tooltip": null,
            "layout": "IPY_MODEL_068c0c6490c6490a83c3bf9eafcfe446",
            "placeholder": "​",
            "style": "IPY_MODEL_70570e6b1b054e8e899742cc3ee20ab1",
            "value": " 30.0M/30.0M [00:00&lt;00:00, 234MB/s]"
          }
        },
        "2ba9f186c9b9467e8859b703656e5408": {
          "model_module": "@jupyter-widgets/controls",
          "model_module_version": "1.5.0",
          "model_name": "ProgressStyleModel",
          "state": {
            "_model_module": "@jupyter-widgets/controls",
            "_model_module_version": "1.5.0",
            "_model_name": "ProgressStyleModel",
            "_view_count": null,
            "_view_module": "@jupyter-widgets/base",
            "_view_module_version": "1.2.0",
            "_view_name": "StyleView",
            "bar_color": null,
            "description_width": ""
          }
        },
        "2debd32a5afc4a8090280dba0e0c6a53": {
          "model_module": "@jupyter-widgets/controls",
          "model_module_version": "1.5.0",
          "model_name": "DescriptionStyleModel",
          "state": {
            "_model_module": "@jupyter-widgets/controls",
            "_model_module_version": "1.5.0",
            "_model_name": "DescriptionStyleModel",
            "_view_count": null,
            "_view_module": "@jupyter-widgets/base",
            "_view_module_version": "1.2.0",
            "_view_name": "StyleView",
            "description_width": ""
          }
        },
        "316f154e86a14e0186f5dc44d004c5be": {
          "model_module": "@jupyter-widgets/base",
          "model_module_version": "1.2.0",
          "model_name": "LayoutModel",
          "state": {
            "_model_module": "@jupyter-widgets/base",
            "_model_module_version": "1.2.0",
            "_model_name": "LayoutModel",
            "_view_count": null,
            "_view_module": "@jupyter-widgets/base",
            "_view_module_version": "1.2.0",
            "_view_name": "LayoutView",
            "align_content": null,
            "align_items": null,
            "align_self": null,
            "border": null,
            "bottom": null,
            "display": null,
            "flex": null,
            "flex_flow": null,
            "grid_area": null,
            "grid_auto_columns": null,
            "grid_auto_flow": null,
            "grid_auto_rows": null,
            "grid_column": null,
            "grid_gap": null,
            "grid_row": null,
            "grid_template_areas": null,
            "grid_template_columns": null,
            "grid_template_rows": null,
            "height": null,
            "justify_content": null,
            "justify_items": null,
            "left": null,
            "margin": null,
            "max_height": null,
            "max_width": null,
            "min_height": null,
            "min_width": null,
            "object_fit": null,
            "object_position": null,
            "order": null,
            "overflow": null,
            "overflow_x": null,
            "overflow_y": null,
            "padding": null,
            "right": null,
            "top": null,
            "visibility": null,
            "width": null
          }
        },
        "340a858cca2e437aa351f2f6252de68a": {
          "model_module": "@jupyter-widgets/controls",
          "model_module_version": "1.5.0",
          "model_name": "HBoxModel",
          "state": {
            "_dom_classes": [],
            "_model_module": "@jupyter-widgets/controls",
            "_model_module_version": "1.5.0",
            "_model_name": "HBoxModel",
            "_view_count": null,
            "_view_module": "@jupyter-widgets/controls",
            "_view_module_version": "1.5.0",
            "_view_name": "HBoxView",
            "box_style": "",
            "children": [
              "IPY_MODEL_0e0357cec5f7476c9b198b3a2f4d529c",
              "IPY_MODEL_1d05634d8c0847e299b6f7f44892fa8d",
              "IPY_MODEL_547125db7ec5459c97075e77926a3614"
            ],
            "layout": "IPY_MODEL_d0f27ddd89ed41ca90fe47646e38cc9b"
          }
        },
        "345e4d5e42ce453196a8825ad173557d": {
          "model_module": "@jupyter-widgets/controls",
          "model_module_version": "1.5.0",
          "model_name": "FloatProgressModel",
          "state": {
            "_dom_classes": [],
            "_model_module": "@jupyter-widgets/controls",
            "_model_module_version": "1.5.0",
            "_model_name": "FloatProgressModel",
            "_view_count": null,
            "_view_module": "@jupyter-widgets/controls",
            "_view_module_version": "1.5.0",
            "_view_name": "ProgressView",
            "bar_style": "success",
            "description": "",
            "description_tooltip": null,
            "layout": "IPY_MODEL_c452ea19965d49b99d5d22e8571c23df",
            "max": 13368,
            "min": 0,
            "orientation": "horizontal",
            "style": "IPY_MODEL_8957023f6a4f4e1ebf3eaedd8b8611d3",
            "value": 13368
          }
        },
        "3a5ffcb7d80342069b01dc06ee98ce2f": {
          "model_module": "@jupyter-widgets/controls",
          "model_module_version": "1.5.0",
          "model_name": "DescriptionStyleModel",
          "state": {
            "_model_module": "@jupyter-widgets/controls",
            "_model_module_version": "1.5.0",
            "_model_name": "DescriptionStyleModel",
            "_view_count": null,
            "_view_module": "@jupyter-widgets/base",
            "_view_module_version": "1.2.0",
            "_view_name": "StyleView",
            "description_width": ""
          }
        },
        "3b8e1d65df0a49369962c50e550d6db9": {
          "model_module": "@jupyter-widgets/controls",
          "model_module_version": "1.5.0",
          "model_name": "HTMLModel",
          "state": {
            "_dom_classes": [],
            "_model_module": "@jupyter-widgets/controls",
            "_model_module_version": "1.5.0",
            "_model_name": "HTMLModel",
            "_view_count": null,
            "_view_module": "@jupyter-widgets/controls",
            "_view_module_version": "1.5.0",
            "_view_name": "HTMLView",
            "description": "",
            "description_tooltip": null,
            "layout": "IPY_MODEL_96e5c29b4a1649a48f4daf458d482777",
            "placeholder": "​",
            "style": "IPY_MODEL_4db074c7f0a843fd99ce75e6c856a49d",
            "value": "train-00001-of-00003.parquet: 100%"
          }
        },
        "3ccc895d432449a2a6b70583ab1930eb": {
          "model_module": "@jupyter-widgets/controls",
          "model_module_version": "1.5.0",
          "model_name": "HTMLModel",
          "state": {
            "_dom_classes": [],
            "_model_module": "@jupyter-widgets/controls",
            "_model_module_version": "1.5.0",
            "_model_name": "HTMLModel",
            "_view_count": null,
            "_view_module": "@jupyter-widgets/controls",
            "_view_module_version": "1.5.0",
            "_view_name": "HTMLView",
            "description": "",
            "description_tooltip": null,
            "layout": "IPY_MODEL_5654345f41c341a08f02dafe4de9d0f4",
            "placeholder": "​",
            "style": "IPY_MODEL_c764fbb0e2714deca67f844e2a81e24e",
            "value": " 257M/257M [00:03&lt;00:00, 36.2MB/s]"
          }
        },
        "43406129b3b341f58ec57b38646f2c39": {
          "model_module": "@jupyter-widgets/base",
          "model_module_version": "1.2.0",
          "model_name": "LayoutModel",
          "state": {
            "_model_module": "@jupyter-widgets/base",
            "_model_module_version": "1.2.0",
            "_model_name": "LayoutModel",
            "_view_count": null,
            "_view_module": "@jupyter-widgets/base",
            "_view_module_version": "1.2.0",
            "_view_name": "LayoutView",
            "align_content": null,
            "align_items": null,
            "align_self": null,
            "border": null,
            "bottom": null,
            "display": null,
            "flex": null,
            "flex_flow": null,
            "grid_area": null,
            "grid_auto_columns": null,
            "grid_auto_flow": null,
            "grid_auto_rows": null,
            "grid_column": null,
            "grid_gap": null,
            "grid_row": null,
            "grid_template_areas": null,
            "grid_template_columns": null,
            "grid_template_rows": null,
            "height": null,
            "justify_content": null,
            "justify_items": null,
            "left": null,
            "margin": null,
            "max_height": null,
            "max_width": null,
            "min_height": null,
            "min_width": null,
            "object_fit": null,
            "object_position": null,
            "order": null,
            "overflow": null,
            "overflow_x": null,
            "overflow_y": null,
            "padding": null,
            "right": null,
            "top": null,
            "visibility": null,
            "width": null
          }
        },
        "44e834c929284e55af4be673bcf5ef4b": {
          "model_module": "@jupyter-widgets/base",
          "model_module_version": "1.2.0",
          "model_name": "LayoutModel",
          "state": {
            "_model_module": "@jupyter-widgets/base",
            "_model_module_version": "1.2.0",
            "_model_name": "LayoutModel",
            "_view_count": null,
            "_view_module": "@jupyter-widgets/base",
            "_view_module_version": "1.2.0",
            "_view_name": "LayoutView",
            "align_content": null,
            "align_items": null,
            "align_self": null,
            "border": null,
            "bottom": null,
            "display": null,
            "flex": null,
            "flex_flow": null,
            "grid_area": null,
            "grid_auto_columns": null,
            "grid_auto_flow": null,
            "grid_auto_rows": null,
            "grid_column": null,
            "grid_gap": null,
            "grid_row": null,
            "grid_template_areas": null,
            "grid_template_columns": null,
            "grid_template_rows": null,
            "height": null,
            "justify_content": null,
            "justify_items": null,
            "left": null,
            "margin": null,
            "max_height": null,
            "max_width": null,
            "min_height": null,
            "min_width": null,
            "object_fit": null,
            "object_position": null,
            "order": null,
            "overflow": null,
            "overflow_x": null,
            "overflow_y": null,
            "padding": null,
            "right": null,
            "top": null,
            "visibility": null,
            "width": null
          }
        },
        "4887a67d15844a28b3865339207f9c66": {
          "model_module": "@jupyter-widgets/base",
          "model_module_version": "1.2.0",
          "model_name": "LayoutModel",
          "state": {
            "_model_module": "@jupyter-widgets/base",
            "_model_module_version": "1.2.0",
            "_model_name": "LayoutModel",
            "_view_count": null,
            "_view_module": "@jupyter-widgets/base",
            "_view_module_version": "1.2.0",
            "_view_name": "LayoutView",
            "align_content": null,
            "align_items": null,
            "align_self": null,
            "border": null,
            "bottom": null,
            "display": null,
            "flex": null,
            "flex_flow": null,
            "grid_area": null,
            "grid_auto_columns": null,
            "grid_auto_flow": null,
            "grid_auto_rows": null,
            "grid_column": null,
            "grid_gap": null,
            "grid_row": null,
            "grid_template_areas": null,
            "grid_template_columns": null,
            "grid_template_rows": null,
            "height": null,
            "justify_content": null,
            "justify_items": null,
            "left": null,
            "margin": null,
            "max_height": null,
            "max_width": null,
            "min_height": null,
            "min_width": null,
            "object_fit": null,
            "object_position": null,
            "order": null,
            "overflow": null,
            "overflow_x": null,
            "overflow_y": null,
            "padding": null,
            "right": null,
            "top": null,
            "visibility": null,
            "width": null
          }
        },
        "4db074c7f0a843fd99ce75e6c856a49d": {
          "model_module": "@jupyter-widgets/controls",
          "model_module_version": "1.5.0",
          "model_name": "DescriptionStyleModel",
          "state": {
            "_model_module": "@jupyter-widgets/controls",
            "_model_module_version": "1.5.0",
            "_model_name": "DescriptionStyleModel",
            "_view_count": null,
            "_view_module": "@jupyter-widgets/base",
            "_view_module_version": "1.2.0",
            "_view_name": "StyleView",
            "description_width": ""
          }
        },
        "4eaaf19de5404000a9da20748cb40f8c": {
          "model_module": "@jupyter-widgets/base",
          "model_module_version": "1.2.0",
          "model_name": "LayoutModel",
          "state": {
            "_model_module": "@jupyter-widgets/base",
            "_model_module_version": "1.2.0",
            "_model_name": "LayoutModel",
            "_view_count": null,
            "_view_module": "@jupyter-widgets/base",
            "_view_module_version": "1.2.0",
            "_view_name": "LayoutView",
            "align_content": null,
            "align_items": null,
            "align_self": null,
            "border": null,
            "bottom": null,
            "display": null,
            "flex": null,
            "flex_flow": null,
            "grid_area": null,
            "grid_auto_columns": null,
            "grid_auto_flow": null,
            "grid_auto_rows": null,
            "grid_column": null,
            "grid_gap": null,
            "grid_row": null,
            "grid_template_areas": null,
            "grid_template_columns": null,
            "grid_template_rows": null,
            "height": null,
            "justify_content": null,
            "justify_items": null,
            "left": null,
            "margin": null,
            "max_height": null,
            "max_width": null,
            "min_height": null,
            "min_width": null,
            "object_fit": null,
            "object_position": null,
            "order": null,
            "overflow": null,
            "overflow_x": null,
            "overflow_y": null,
            "padding": null,
            "right": null,
            "top": null,
            "visibility": null,
            "width": null
          }
        },
        "50eb1bd9384c44358d7ac0543a2d4324": {
          "model_module": "@jupyter-widgets/controls",
          "model_module_version": "1.5.0",
          "model_name": "DescriptionStyleModel",
          "state": {
            "_model_module": "@jupyter-widgets/controls",
            "_model_module_version": "1.5.0",
            "_model_name": "DescriptionStyleModel",
            "_view_count": null,
            "_view_module": "@jupyter-widgets/base",
            "_view_module_version": "1.2.0",
            "_view_name": "StyleView",
            "description_width": ""
          }
        },
        "511cd4ce143d4a73907067491417b343": {
          "model_module": "@jupyter-widgets/controls",
          "model_module_version": "1.5.0",
          "model_name": "HTMLModel",
          "state": {
            "_dom_classes": [],
            "_model_module": "@jupyter-widgets/controls",
            "_model_module_version": "1.5.0",
            "_model_name": "HTMLModel",
            "_view_count": null,
            "_view_module": "@jupyter-widgets/controls",
            "_view_module_version": "1.5.0",
            "_view_name": "HTMLView",
            "description": "",
            "description_tooltip": null,
            "layout": "IPY_MODEL_551de83780d840819d56025723c35188",
            "placeholder": "​",
            "style": "IPY_MODEL_c2d538c58ece4d08ae20a4d9ff232a54",
            "value": "validation-00000-of-00001.parquet: 100%"
          }
        },
        "547125db7ec5459c97075e77926a3614": {
          "model_module": "@jupyter-widgets/controls",
          "model_module_version": "1.5.0",
          "model_name": "HTMLModel",
          "state": {
            "_dom_classes": [],
            "_model_module": "@jupyter-widgets/controls",
            "_model_module_version": "1.5.0",
            "_model_name": "HTMLModel",
            "_view_count": null,
            "_view_module": "@jupyter-widgets/controls",
            "_view_module_version": "1.5.0",
            "_view_name": "HTMLView",
            "description": "",
            "description_tooltip": null,
            "layout": "IPY_MODEL_2604b9bbe4fd444f977cee186898d2d2",
            "placeholder": "​",
            "style": "IPY_MODEL_fc2f6107fe4f47a2ab411077fd3e4879",
            "value": " 287113/287113 [00:11&lt;00:00, 40900.45 examples/s]"
          }
        },
        "551de83780d840819d56025723c35188": {
          "model_module": "@jupyter-widgets/base",
          "model_module_version": "1.2.0",
          "model_name": "LayoutModel",
          "state": {
            "_model_module": "@jupyter-widgets/base",
            "_model_module_version": "1.2.0",
            "_model_name": "LayoutModel",
            "_view_count": null,
            "_view_module": "@jupyter-widgets/base",
            "_view_module_version": "1.2.0",
            "_view_name": "LayoutView",
            "align_content": null,
            "align_items": null,
            "align_self": null,
            "border": null,
            "bottom": null,
            "display": null,
            "flex": null,
            "flex_flow": null,
            "grid_area": null,
            "grid_auto_columns": null,
            "grid_auto_flow": null,
            "grid_auto_rows": null,
            "grid_column": null,
            "grid_gap": null,
            "grid_row": null,
            "grid_template_areas": null,
            "grid_template_columns": null,
            "grid_template_rows": null,
            "height": null,
            "justify_content": null,
            "justify_items": null,
            "left": null,
            "margin": null,
            "max_height": null,
            "max_width": null,
            "min_height": null,
            "min_width": null,
            "object_fit": null,
            "object_position": null,
            "order": null,
            "overflow": null,
            "overflow_x": null,
            "overflow_y": null,
            "padding": null,
            "right": null,
            "top": null,
            "visibility": null,
            "width": null
          }
        },
        "5654345f41c341a08f02dafe4de9d0f4": {
          "model_module": "@jupyter-widgets/base",
          "model_module_version": "1.2.0",
          "model_name": "LayoutModel",
          "state": {
            "_model_module": "@jupyter-widgets/base",
            "_model_module_version": "1.2.0",
            "_model_name": "LayoutModel",
            "_view_count": null,
            "_view_module": "@jupyter-widgets/base",
            "_view_module_version": "1.2.0",
            "_view_name": "LayoutView",
            "align_content": null,
            "align_items": null,
            "align_self": null,
            "border": null,
            "bottom": null,
            "display": null,
            "flex": null,
            "flex_flow": null,
            "grid_area": null,
            "grid_auto_columns": null,
            "grid_auto_flow": null,
            "grid_auto_rows": null,
            "grid_column": null,
            "grid_gap": null,
            "grid_row": null,
            "grid_template_areas": null,
            "grid_template_columns": null,
            "grid_template_rows": null,
            "height": null,
            "justify_content": null,
            "justify_items": null,
            "left": null,
            "margin": null,
            "max_height": null,
            "max_width": null,
            "min_height": null,
            "min_width": null,
            "object_fit": null,
            "object_position": null,
            "order": null,
            "overflow": null,
            "overflow_x": null,
            "overflow_y": null,
            "padding": null,
            "right": null,
            "top": null,
            "visibility": null,
            "width": null
          }
        },
        "575c3bed2481483b947df85aee20841f": {
          "model_module": "@jupyter-widgets/base",
          "model_module_version": "1.2.0",
          "model_name": "LayoutModel",
          "state": {
            "_model_module": "@jupyter-widgets/base",
            "_model_module_version": "1.2.0",
            "_model_name": "LayoutModel",
            "_view_count": null,
            "_view_module": "@jupyter-widgets/base",
            "_view_module_version": "1.2.0",
            "_view_name": "LayoutView",
            "align_content": null,
            "align_items": null,
            "align_self": null,
            "border": null,
            "bottom": null,
            "display": null,
            "flex": null,
            "flex_flow": null,
            "grid_area": null,
            "grid_auto_columns": null,
            "grid_auto_flow": null,
            "grid_auto_rows": null,
            "grid_column": null,
            "grid_gap": null,
            "grid_row": null,
            "grid_template_areas": null,
            "grid_template_columns": null,
            "grid_template_rows": null,
            "height": null,
            "justify_content": null,
            "justify_items": null,
            "left": null,
            "margin": null,
            "max_height": null,
            "max_width": null,
            "min_height": null,
            "min_width": null,
            "object_fit": null,
            "object_position": null,
            "order": null,
            "overflow": null,
            "overflow_x": null,
            "overflow_y": null,
            "padding": null,
            "right": null,
            "top": null,
            "visibility": null,
            "width": null
          }
        },
        "5a938a439c9c44a39fc1dc6ae363ef75": {
          "model_module": "@jupyter-widgets/controls",
          "model_module_version": "1.5.0",
          "model_name": "DescriptionStyleModel",
          "state": {
            "_model_module": "@jupyter-widgets/controls",
            "_model_module_version": "1.5.0",
            "_model_name": "DescriptionStyleModel",
            "_view_count": null,
            "_view_module": "@jupyter-widgets/base",
            "_view_module_version": "1.2.0",
            "_view_name": "StyleView",
            "description_width": ""
          }
        },
        "5af701466e8a4b1e9a018e49831dd1ba": {
          "model_module": "@jupyter-widgets/controls",
          "model_module_version": "1.5.0",
          "model_name": "HTMLModel",
          "state": {
            "_dom_classes": [],
            "_model_module": "@jupyter-widgets/controls",
            "_model_module_version": "1.5.0",
            "_model_name": "HTMLModel",
            "_view_count": null,
            "_view_module": "@jupyter-widgets/controls",
            "_view_module_version": "1.5.0",
            "_view_name": "HTMLView",
            "description": "",
            "description_tooltip": null,
            "layout": "IPY_MODEL_316f154e86a14e0186f5dc44d004c5be",
            "placeholder": "​",
            "style": "IPY_MODEL_70d25ae4aa384064962a5f9c0cdda7e6",
            "value": "Generating validation split: 100%"
          }
        },
        "62a3bdce7881420db143ae4734aa9ec2": {
          "model_module": "@jupyter-widgets/controls",
          "model_module_version": "1.5.0",
          "model_name": "FloatProgressModel",
          "state": {
            "_dom_classes": [],
            "_model_module": "@jupyter-widgets/controls",
            "_model_module_version": "1.5.0",
            "_model_name": "FloatProgressModel",
            "_view_count": null,
            "_view_module": "@jupyter-widgets/controls",
            "_view_module_version": "1.5.0",
            "_view_name": "ProgressView",
            "bar_style": "success",
            "description": "",
            "description_tooltip": null,
            "layout": "IPY_MODEL_6e1c75dbc2354f9cb4ee3c74e41e1934",
            "max": 256588241,
            "min": 0,
            "orientation": "horizontal",
            "style": "IPY_MODEL_a5c56586878844ad9d654234cbc747a6",
            "value": 256588241
          }
        },
        "62c1c305e1d345bf87bf6caaea85bd4c": {
          "model_module": "@jupyter-widgets/base",
          "model_module_version": "1.2.0",
          "model_name": "LayoutModel",
          "state": {
            "_model_module": "@jupyter-widgets/base",
            "_model_module_version": "1.2.0",
            "_model_name": "LayoutModel",
            "_view_count": null,
            "_view_module": "@jupyter-widgets/base",
            "_view_module_version": "1.2.0",
            "_view_name": "LayoutView",
            "align_content": null,
            "align_items": null,
            "align_self": null,
            "border": null,
            "bottom": null,
            "display": null,
            "flex": null,
            "flex_flow": null,
            "grid_area": null,
            "grid_auto_columns": null,
            "grid_auto_flow": null,
            "grid_auto_rows": null,
            "grid_column": null,
            "grid_gap": null,
            "grid_row": null,
            "grid_template_areas": null,
            "grid_template_columns": null,
            "grid_template_rows": null,
            "height": null,
            "justify_content": null,
            "justify_items": null,
            "left": null,
            "margin": null,
            "max_height": null,
            "max_width": null,
            "min_height": null,
            "min_width": null,
            "object_fit": null,
            "object_position": null,
            "order": null,
            "overflow": null,
            "overflow_x": null,
            "overflow_y": null,
            "padding": null,
            "right": null,
            "top": null,
            "visibility": null,
            "width": null
          }
        },
        "639a51b89a6c471da5508c3ba926e8d2": {
          "model_module": "@jupyter-widgets/controls",
          "model_module_version": "1.5.0",
          "model_name": "HTMLModel",
          "state": {
            "_dom_classes": [],
            "_model_module": "@jupyter-widgets/controls",
            "_model_module_version": "1.5.0",
            "_model_name": "HTMLModel",
            "_view_count": null,
            "_view_module": "@jupyter-widgets/controls",
            "_view_module_version": "1.5.0",
            "_view_name": "HTMLView",
            "description": "",
            "description_tooltip": null,
            "layout": "IPY_MODEL_44e834c929284e55af4be673bcf5ef4b",
            "placeholder": "​",
            "style": "IPY_MODEL_c4b28c6b62af4c73b8da9da116ebee57",
            "value": " 34.7M/34.7M [00:00&lt;00:00, 184MB/s]"
          }
        },
        "6e1c75dbc2354f9cb4ee3c74e41e1934": {
          "model_module": "@jupyter-widgets/base",
          "model_module_version": "1.2.0",
          "model_name": "LayoutModel",
          "state": {
            "_model_module": "@jupyter-widgets/base",
            "_model_module_version": "1.2.0",
            "_model_name": "LayoutModel",
            "_view_count": null,
            "_view_module": "@jupyter-widgets/base",
            "_view_module_version": "1.2.0",
            "_view_name": "LayoutView",
            "align_content": null,
            "align_items": null,
            "align_self": null,
            "border": null,
            "bottom": null,
            "display": null,
            "flex": null,
            "flex_flow": null,
            "grid_area": null,
            "grid_auto_columns": null,
            "grid_auto_flow": null,
            "grid_auto_rows": null,
            "grid_column": null,
            "grid_gap": null,
            "grid_row": null,
            "grid_template_areas": null,
            "grid_template_columns": null,
            "grid_template_rows": null,
            "height": null,
            "justify_content": null,
            "justify_items": null,
            "left": null,
            "margin": null,
            "max_height": null,
            "max_width": null,
            "min_height": null,
            "min_width": null,
            "object_fit": null,
            "object_position": null,
            "order": null,
            "overflow": null,
            "overflow_x": null,
            "overflow_y": null,
            "padding": null,
            "right": null,
            "top": null,
            "visibility": null,
            "width": null
          }
        },
        "70570e6b1b054e8e899742cc3ee20ab1": {
          "model_module": "@jupyter-widgets/controls",
          "model_module_version": "1.5.0",
          "model_name": "DescriptionStyleModel",
          "state": {
            "_model_module": "@jupyter-widgets/controls",
            "_model_module_version": "1.5.0",
            "_model_name": "DescriptionStyleModel",
            "_view_count": null,
            "_view_module": "@jupyter-widgets/base",
            "_view_module_version": "1.2.0",
            "_view_name": "StyleView",
            "description_width": ""
          }
        },
        "70d25ae4aa384064962a5f9c0cdda7e6": {
          "model_module": "@jupyter-widgets/controls",
          "model_module_version": "1.5.0",
          "model_name": "DescriptionStyleModel",
          "state": {
            "_model_module": "@jupyter-widgets/controls",
            "_model_module_version": "1.5.0",
            "_model_name": "DescriptionStyleModel",
            "_view_count": null,
            "_view_module": "@jupyter-widgets/base",
            "_view_module_version": "1.2.0",
            "_view_name": "StyleView",
            "description_width": ""
          }
        },
        "732449fc38af41ccbd27329fe501c0af": {
          "model_module": "@jupyter-widgets/base",
          "model_module_version": "1.2.0",
          "model_name": "LayoutModel",
          "state": {
            "_model_module": "@jupyter-widgets/base",
            "_model_module_version": "1.2.0",
            "_model_name": "LayoutModel",
            "_view_count": null,
            "_view_module": "@jupyter-widgets/base",
            "_view_module_version": "1.2.0",
            "_view_name": "LayoutView",
            "align_content": null,
            "align_items": null,
            "align_self": null,
            "border": null,
            "bottom": null,
            "display": null,
            "flex": null,
            "flex_flow": null,
            "grid_area": null,
            "grid_auto_columns": null,
            "grid_auto_flow": null,
            "grid_auto_rows": null,
            "grid_column": null,
            "grid_gap": null,
            "grid_row": null,
            "grid_template_areas": null,
            "grid_template_columns": null,
            "grid_template_rows": null,
            "height": null,
            "justify_content": null,
            "justify_items": null,
            "left": null,
            "margin": null,
            "max_height": null,
            "max_width": null,
            "min_height": null,
            "min_width": null,
            "object_fit": null,
            "object_position": null,
            "order": null,
            "overflow": null,
            "overflow_x": null,
            "overflow_y": null,
            "padding": null,
            "right": null,
            "top": null,
            "visibility": null,
            "width": null
          }
        },
        "739b1faad91c4617ab9a5fbd75def1ab": {
          "model_module": "@jupyter-widgets/controls",
          "model_module_version": "1.5.0",
          "model_name": "HTMLModel",
          "state": {
            "_dom_classes": [],
            "_model_module": "@jupyter-widgets/controls",
            "_model_module_version": "1.5.0",
            "_model_name": "HTMLModel",
            "_view_count": null,
            "_view_module": "@jupyter-widgets/controls",
            "_view_module_version": "1.5.0",
            "_view_name": "HTMLView",
            "description": "",
            "description_tooltip": null,
            "layout": "IPY_MODEL_01d9950686a0473ab7aba306de543fc9",
            "placeholder": "​",
            "style": "IPY_MODEL_8ccea60414db49f4ba0e914fff99e5c7",
            "value": " 259M/259M [00:01&lt;00:00, 231MB/s]"
          }
        },
        "73f8b3b8e7c846819185054634dda1cd": {
          "model_module": "@jupyter-widgets/base",
          "model_module_version": "1.2.0",
          "model_name": "LayoutModel",
          "state": {
            "_model_module": "@jupyter-widgets/base",
            "_model_module_version": "1.2.0",
            "_model_name": "LayoutModel",
            "_view_count": null,
            "_view_module": "@jupyter-widgets/base",
            "_view_module_version": "1.2.0",
            "_view_name": "LayoutView",
            "align_content": null,
            "align_items": null,
            "align_self": null,
            "border": null,
            "bottom": null,
            "display": null,
            "flex": null,
            "flex_flow": null,
            "grid_area": null,
            "grid_auto_columns": null,
            "grid_auto_flow": null,
            "grid_auto_rows": null,
            "grid_column": null,
            "grid_gap": null,
            "grid_row": null,
            "grid_template_areas": null,
            "grid_template_columns": null,
            "grid_template_rows": null,
            "height": null,
            "justify_content": null,
            "justify_items": null,
            "left": null,
            "margin": null,
            "max_height": null,
            "max_width": null,
            "min_height": null,
            "min_width": null,
            "object_fit": null,
            "object_position": null,
            "order": null,
            "overflow": null,
            "overflow_x": null,
            "overflow_y": null,
            "padding": null,
            "right": null,
            "top": null,
            "visibility": null,
            "width": null
          }
        },
        "74f59f852297437b9ec333d367e3e043": {
          "model_module": "@jupyter-widgets/controls",
          "model_module_version": "1.5.0",
          "model_name": "FloatProgressModel",
          "state": {
            "_dom_classes": [],
            "_model_module": "@jupyter-widgets/controls",
            "_model_module_version": "1.5.0",
            "_model_name": "FloatProgressModel",
            "_view_count": null,
            "_view_module": "@jupyter-widgets/controls",
            "_view_module_version": "1.5.0",
            "_view_name": "ProgressView",
            "bar_style": "success",
            "description": "",
            "description_tooltip": null,
            "layout": "IPY_MODEL_eaeaf2dc6fcd404e9e33eaf860c75310",
            "max": 256540614,
            "min": 0,
            "orientation": "horizontal",
            "style": "IPY_MODEL_17e8f3b9225541ba964140adf33bc266",
            "value": 256540614
          }
        },
        "789df14ca18142098aa4f1453fbd5ecd": {
          "model_module": "@jupyter-widgets/controls",
          "model_module_version": "1.5.0",
          "model_name": "FloatProgressModel",
          "state": {
            "_dom_classes": [],
            "_model_module": "@jupyter-widgets/controls",
            "_model_module_version": "1.5.0",
            "_model_name": "FloatProgressModel",
            "_view_count": null,
            "_view_module": "@jupyter-widgets/controls",
            "_view_module_version": "1.5.0",
            "_view_name": "ProgressView",
            "bar_style": "success",
            "description": "",
            "description_tooltip": null,
            "layout": "IPY_MODEL_bdba94f69c454aeda070ea606dec185e",
            "max": 11490,
            "min": 0,
            "orientation": "horizontal",
            "style": "IPY_MODEL_7d8c3894546b4e809120b5af1649c8df",
            "value": 11490
          }
        },
        "794568c2d3614d01b811a9047263595f": {
          "model_module": "@jupyter-widgets/base",
          "model_module_version": "1.2.0",
          "model_name": "LayoutModel",
          "state": {
            "_model_module": "@jupyter-widgets/base",
            "_model_module_version": "1.2.0",
            "_model_name": "LayoutModel",
            "_view_count": null,
            "_view_module": "@jupyter-widgets/base",
            "_view_module_version": "1.2.0",
            "_view_name": "LayoutView",
            "align_content": null,
            "align_items": null,
            "align_self": null,
            "border": null,
            "bottom": null,
            "display": null,
            "flex": null,
            "flex_flow": null,
            "grid_area": null,
            "grid_auto_columns": null,
            "grid_auto_flow": null,
            "grid_auto_rows": null,
            "grid_column": null,
            "grid_gap": null,
            "grid_row": null,
            "grid_template_areas": null,
            "grid_template_columns": null,
            "grid_template_rows": null,
            "height": null,
            "justify_content": null,
            "justify_items": null,
            "left": null,
            "margin": null,
            "max_height": null,
            "max_width": null,
            "min_height": null,
            "min_width": null,
            "object_fit": null,
            "object_position": null,
            "order": null,
            "overflow": null,
            "overflow_x": null,
            "overflow_y": null,
            "padding": null,
            "right": null,
            "top": null,
            "visibility": null,
            "width": null
          }
        },
        "7b8ebc5093304acdb0097f24f360da77": {
          "model_module": "@jupyter-widgets/controls",
          "model_module_version": "1.5.0",
          "model_name": "HTMLModel",
          "state": {
            "_dom_classes": [],
            "_model_module": "@jupyter-widgets/controls",
            "_model_module_version": "1.5.0",
            "_model_name": "HTMLModel",
            "_view_count": null,
            "_view_module": "@jupyter-widgets/controls",
            "_view_module_version": "1.5.0",
            "_view_name": "HTMLView",
            "description": "",
            "description_tooltip": null,
            "layout": "IPY_MODEL_d516c9788a554f728ec6877474c37107",
            "placeholder": "​",
            "style": "IPY_MODEL_da1250ab6dcd443bb43ee0434ea5bd3c",
            "value": "test-00000-of-00001.parquet: 100%"
          }
        },
        "7c10ca38dbb641a9a632c106a81f23e8": {
          "model_module": "@jupyter-widgets/base",
          "model_module_version": "1.2.0",
          "model_name": "LayoutModel",
          "state": {
            "_model_module": "@jupyter-widgets/base",
            "_model_module_version": "1.2.0",
            "_model_name": "LayoutModel",
            "_view_count": null,
            "_view_module": "@jupyter-widgets/base",
            "_view_module_version": "1.2.0",
            "_view_name": "LayoutView",
            "align_content": null,
            "align_items": null,
            "align_self": null,
            "border": null,
            "bottom": null,
            "display": null,
            "flex": null,
            "flex_flow": null,
            "grid_area": null,
            "grid_auto_columns": null,
            "grid_auto_flow": null,
            "grid_auto_rows": null,
            "grid_column": null,
            "grid_gap": null,
            "grid_row": null,
            "grid_template_areas": null,
            "grid_template_columns": null,
            "grid_template_rows": null,
            "height": null,
            "justify_content": null,
            "justify_items": null,
            "left": null,
            "margin": null,
            "max_height": null,
            "max_width": null,
            "min_height": null,
            "min_width": null,
            "object_fit": null,
            "object_position": null,
            "order": null,
            "overflow": null,
            "overflow_x": null,
            "overflow_y": null,
            "padding": null,
            "right": null,
            "top": null,
            "visibility": null,
            "width": null
          }
        },
        "7d15d5ec6ffb42bdaf75203b8be5d339": {
          "model_module": "@jupyter-widgets/controls",
          "model_module_version": "1.5.0",
          "model_name": "HTMLModel",
          "state": {
            "_dom_classes": [],
            "_model_module": "@jupyter-widgets/controls",
            "_model_module_version": "1.5.0",
            "_model_name": "HTMLModel",
            "_view_count": null,
            "_view_module": "@jupyter-widgets/controls",
            "_view_module_version": "1.5.0",
            "_view_name": "HTMLView",
            "description": "",
            "description_tooltip": null,
            "layout": "IPY_MODEL_62c1c305e1d345bf87bf6caaea85bd4c",
            "placeholder": "​",
            "style": "IPY_MODEL_037abf11aa3b4f0292eace5b27daca81",
            "value": " 11490/11490 [00:00&lt;00:00, 27018.23 examples/s]"
          }
        },
        "7d8c3894546b4e809120b5af1649c8df": {
          "model_module": "@jupyter-widgets/controls",
          "model_module_version": "1.5.0",
          "model_name": "ProgressStyleModel",
          "state": {
            "_model_module": "@jupyter-widgets/controls",
            "_model_module_version": "1.5.0",
            "_model_name": "ProgressStyleModel",
            "_view_count": null,
            "_view_module": "@jupyter-widgets/base",
            "_view_module_version": "1.2.0",
            "_view_name": "StyleView",
            "bar_color": null,
            "description_width": ""
          }
        },
        "7e3a0ac8dcce4a94a23069fd4ba91948": {
          "model_module": "@jupyter-widgets/controls",
          "model_module_version": "1.5.0",
          "model_name": "DescriptionStyleModel",
          "state": {
            "_model_module": "@jupyter-widgets/controls",
            "_model_module_version": "1.5.0",
            "_model_name": "DescriptionStyleModel",
            "_view_count": null,
            "_view_module": "@jupyter-widgets/base",
            "_view_module_version": "1.2.0",
            "_view_name": "StyleView",
            "description_width": ""
          }
        },
        "81b2f69df83a4665a71b91ae9fa76dd6": {
          "model_module": "@jupyter-widgets/base",
          "model_module_version": "1.2.0",
          "model_name": "LayoutModel",
          "state": {
            "_model_module": "@jupyter-widgets/base",
            "_model_module_version": "1.2.0",
            "_model_name": "LayoutModel",
            "_view_count": null,
            "_view_module": "@jupyter-widgets/base",
            "_view_module_version": "1.2.0",
            "_view_name": "LayoutView",
            "align_content": null,
            "align_items": null,
            "align_self": null,
            "border": null,
            "bottom": null,
            "display": null,
            "flex": null,
            "flex_flow": null,
            "grid_area": null,
            "grid_auto_columns": null,
            "grid_auto_flow": null,
            "grid_auto_rows": null,
            "grid_column": null,
            "grid_gap": null,
            "grid_row": null,
            "grid_template_areas": null,
            "grid_template_columns": null,
            "grid_template_rows": null,
            "height": null,
            "justify_content": null,
            "justify_items": null,
            "left": null,
            "margin": null,
            "max_height": null,
            "max_width": null,
            "min_height": null,
            "min_width": null,
            "object_fit": null,
            "object_position": null,
            "order": null,
            "overflow": null,
            "overflow_x": null,
            "overflow_y": null,
            "padding": null,
            "right": null,
            "top": null,
            "visibility": null,
            "width": null
          }
        },
        "8330b6216bd04c7a97904610fa463c5a": {
          "model_module": "@jupyter-widgets/base",
          "model_module_version": "1.2.0",
          "model_name": "LayoutModel",
          "state": {
            "_model_module": "@jupyter-widgets/base",
            "_model_module_version": "1.2.0",
            "_model_name": "LayoutModel",
            "_view_count": null,
            "_view_module": "@jupyter-widgets/base",
            "_view_module_version": "1.2.0",
            "_view_name": "LayoutView",
            "align_content": null,
            "align_items": null,
            "align_self": null,
            "border": null,
            "bottom": null,
            "display": null,
            "flex": null,
            "flex_flow": null,
            "grid_area": null,
            "grid_auto_columns": null,
            "grid_auto_flow": null,
            "grid_auto_rows": null,
            "grid_column": null,
            "grid_gap": null,
            "grid_row": null,
            "grid_template_areas": null,
            "grid_template_columns": null,
            "grid_template_rows": null,
            "height": null,
            "justify_content": null,
            "justify_items": null,
            "left": null,
            "margin": null,
            "max_height": null,
            "max_width": null,
            "min_height": null,
            "min_width": null,
            "object_fit": null,
            "object_position": null,
            "order": null,
            "overflow": null,
            "overflow_x": null,
            "overflow_y": null,
            "padding": null,
            "right": null,
            "top": null,
            "visibility": null,
            "width": null
          }
        },
        "8957023f6a4f4e1ebf3eaedd8b8611d3": {
          "model_module": "@jupyter-widgets/controls",
          "model_module_version": "1.5.0",
          "model_name": "ProgressStyleModel",
          "state": {
            "_model_module": "@jupyter-widgets/controls",
            "_model_module_version": "1.5.0",
            "_model_name": "ProgressStyleModel",
            "_view_count": null,
            "_view_module": "@jupyter-widgets/base",
            "_view_module_version": "1.2.0",
            "_view_name": "StyleView",
            "bar_color": null,
            "description_width": ""
          }
        },
        "8ccea60414db49f4ba0e914fff99e5c7": {
          "model_module": "@jupyter-widgets/controls",
          "model_module_version": "1.5.0",
          "model_name": "DescriptionStyleModel",
          "state": {
            "_model_module": "@jupyter-widgets/controls",
            "_model_module_version": "1.5.0",
            "_model_name": "DescriptionStyleModel",
            "_view_count": null,
            "_view_module": "@jupyter-widgets/base",
            "_view_module_version": "1.2.0",
            "_view_name": "StyleView",
            "description_width": ""
          }
        },
        "9365020ee06a48d7be128e1dd3b7c6b4": {
          "model_module": "@jupyter-widgets/controls",
          "model_module_version": "1.5.0",
          "model_name": "HBoxModel",
          "state": {
            "_dom_classes": [],
            "_model_module": "@jupyter-widgets/controls",
            "_model_module_version": "1.5.0",
            "_model_name": "HBoxModel",
            "_view_count": null,
            "_view_module": "@jupyter-widgets/controls",
            "_view_module_version": "1.5.0",
            "_view_name": "HBoxView",
            "box_style": "",
            "children": [
              "IPY_MODEL_bbeedf8198d0460c87fb505ce77489eb",
              "IPY_MODEL_1da85aceacd04e25b161e1c2cebf5e50",
              "IPY_MODEL_739b1faad91c4617ab9a5fbd75def1ab"
            ],
            "layout": "IPY_MODEL_43406129b3b341f58ec57b38646f2c39"
          }
        },
        "95a580cce71e415c87436542587e9936": {
          "model_module": "@jupyter-widgets/controls",
          "model_module_version": "1.5.0",
          "model_name": "DescriptionStyleModel",
          "state": {
            "_model_module": "@jupyter-widgets/controls",
            "_model_module_version": "1.5.0",
            "_model_name": "DescriptionStyleModel",
            "_view_count": null,
            "_view_module": "@jupyter-widgets/base",
            "_view_module_version": "1.2.0",
            "_view_name": "StyleView",
            "description_width": ""
          }
        },
        "96e5c29b4a1649a48f4daf458d482777": {
          "model_module": "@jupyter-widgets/base",
          "model_module_version": "1.2.0",
          "model_name": "LayoutModel",
          "state": {
            "_model_module": "@jupyter-widgets/base",
            "_model_module_version": "1.2.0",
            "_model_name": "LayoutModel",
            "_view_count": null,
            "_view_module": "@jupyter-widgets/base",
            "_view_module_version": "1.2.0",
            "_view_name": "LayoutView",
            "align_content": null,
            "align_items": null,
            "align_self": null,
            "border": null,
            "bottom": null,
            "display": null,
            "flex": null,
            "flex_flow": null,
            "grid_area": null,
            "grid_auto_columns": null,
            "grid_auto_flow": null,
            "grid_auto_rows": null,
            "grid_column": null,
            "grid_gap": null,
            "grid_row": null,
            "grid_template_areas": null,
            "grid_template_columns": null,
            "grid_template_rows": null,
            "height": null,
            "justify_content": null,
            "justify_items": null,
            "left": null,
            "margin": null,
            "max_height": null,
            "max_width": null,
            "min_height": null,
            "min_width": null,
            "object_fit": null,
            "object_position": null,
            "order": null,
            "overflow": null,
            "overflow_x": null,
            "overflow_y": null,
            "padding": null,
            "right": null,
            "top": null,
            "visibility": null,
            "width": null
          }
        },
        "a414f9f08000483b833dac9b2b0ecec4": {
          "model_module": "@jupyter-widgets/controls",
          "model_module_version": "1.5.0",
          "model_name": "HTMLModel",
          "state": {
            "_dom_classes": [],
            "_model_module": "@jupyter-widgets/controls",
            "_model_module_version": "1.5.0",
            "_model_name": "HTMLModel",
            "_view_count": null,
            "_view_module": "@jupyter-widgets/controls",
            "_view_module_version": "1.5.0",
            "_view_name": "HTMLView",
            "description": "",
            "description_tooltip": null,
            "layout": "IPY_MODEL_4887a67d15844a28b3865339207f9c66",
            "placeholder": "​",
            "style": "IPY_MODEL_3a5ffcb7d80342069b01dc06ee98ce2f",
            "value": "Generating test split: 100%"
          }
        },
        "a5c56586878844ad9d654234cbc747a6": {
          "model_module": "@jupyter-widgets/controls",
          "model_module_version": "1.5.0",
          "model_name": "ProgressStyleModel",
          "state": {
            "_model_module": "@jupyter-widgets/controls",
            "_model_module_version": "1.5.0",
            "_model_name": "ProgressStyleModel",
            "_view_count": null,
            "_view_module": "@jupyter-widgets/base",
            "_view_module_version": "1.2.0",
            "_view_name": "StyleView",
            "bar_color": null,
            "description_width": ""
          }
        },
        "af9dcc7b74bb4b0a8cdf1fbf85009877": {
          "model_module": "@jupyter-widgets/base",
          "model_module_version": "1.2.0",
          "model_name": "LayoutModel",
          "state": {
            "_model_module": "@jupyter-widgets/base",
            "_model_module_version": "1.2.0",
            "_model_name": "LayoutModel",
            "_view_count": null,
            "_view_module": "@jupyter-widgets/base",
            "_view_module_version": "1.2.0",
            "_view_name": "LayoutView",
            "align_content": null,
            "align_items": null,
            "align_self": null,
            "border": null,
            "bottom": null,
            "display": null,
            "flex": null,
            "flex_flow": null,
            "grid_area": null,
            "grid_auto_columns": null,
            "grid_auto_flow": null,
            "grid_auto_rows": null,
            "grid_column": null,
            "grid_gap": null,
            "grid_row": null,
            "grid_template_areas": null,
            "grid_template_columns": null,
            "grid_template_rows": null,
            "height": null,
            "justify_content": null,
            "justify_items": null,
            "left": null,
            "margin": null,
            "max_height": null,
            "max_width": null,
            "min_height": null,
            "min_width": null,
            "object_fit": null,
            "object_position": null,
            "order": null,
            "overflow": null,
            "overflow_x": null,
            "overflow_y": null,
            "padding": null,
            "right": null,
            "top": null,
            "visibility": null,
            "width": null
          }
        },
        "b1458ad2de1b466bbdb2071ade65e270": {
          "model_module": "@jupyter-widgets/controls",
          "model_module_version": "1.5.0",
          "model_name": "HBoxModel",
          "state": {
            "_dom_classes": [],
            "_model_module": "@jupyter-widgets/controls",
            "_model_module_version": "1.5.0",
            "_model_name": "HBoxModel",
            "_view_count": null,
            "_view_module": "@jupyter-widgets/controls",
            "_view_module_version": "1.5.0",
            "_view_name": "HBoxView",
            "box_style": "",
            "children": [
              "IPY_MODEL_511cd4ce143d4a73907067491417b343",
              "IPY_MODEL_0cfa1da605104d4382dd50b3f5cb97db",
              "IPY_MODEL_639a51b89a6c471da5508c3ba926e8d2"
            ],
            "layout": "IPY_MODEL_575c3bed2481483b947df85aee20841f"
          }
        },
        "b1c44219d86b40318a6ca24be900fe1a": {
          "model_module": "@jupyter-widgets/controls",
          "model_module_version": "1.5.0",
          "model_name": "ProgressStyleModel",
          "state": {
            "_model_module": "@jupyter-widgets/controls",
            "_model_module_version": "1.5.0",
            "_model_name": "ProgressStyleModel",
            "_view_count": null,
            "_view_module": "@jupyter-widgets/base",
            "_view_module_version": "1.2.0",
            "_view_name": "StyleView",
            "bar_color": null,
            "description_width": ""
          }
        },
        "b2996c1098c24b24ae7af973535980eb": {
          "model_module": "@jupyter-widgets/controls",
          "model_module_version": "1.5.0",
          "model_name": "HBoxModel",
          "state": {
            "_dom_classes": [],
            "_model_module": "@jupyter-widgets/controls",
            "_model_module_version": "1.5.0",
            "_model_name": "HBoxModel",
            "_view_count": null,
            "_view_module": "@jupyter-widgets/controls",
            "_view_module_version": "1.5.0",
            "_view_name": "HBoxView",
            "box_style": "",
            "children": [
              "IPY_MODEL_a414f9f08000483b833dac9b2b0ecec4",
              "IPY_MODEL_789df14ca18142098aa4f1453fbd5ecd",
              "IPY_MODEL_7d15d5ec6ffb42bdaf75203b8be5d339"
            ],
            "layout": "IPY_MODEL_fab17685b1d3459aa97328b29571451f"
          }
        },
        "bbeedf8198d0460c87fb505ce77489eb": {
          "model_module": "@jupyter-widgets/controls",
          "model_module_version": "1.5.0",
          "model_name": "HTMLModel",
          "state": {
            "_dom_classes": [],
            "_model_module": "@jupyter-widgets/controls",
            "_model_module_version": "1.5.0",
            "_model_name": "HTMLModel",
            "_view_count": null,
            "_view_module": "@jupyter-widgets/controls",
            "_view_module_version": "1.5.0",
            "_view_name": "HTMLView",
            "description": "",
            "description_tooltip": null,
            "layout": "IPY_MODEL_0fca3de9c9a64a298e72e91842542e2d",
            "placeholder": "​",
            "style": "IPY_MODEL_2debd32a5afc4a8090280dba0e0c6a53",
            "value": "train-00002-of-00003.parquet: 100%"
          }
        },
        "bdba94f69c454aeda070ea606dec185e": {
          "model_module": "@jupyter-widgets/base",
          "model_module_version": "1.2.0",
          "model_name": "LayoutModel",
          "state": {
            "_model_module": "@jupyter-widgets/base",
            "_model_module_version": "1.2.0",
            "_model_name": "LayoutModel",
            "_view_count": null,
            "_view_module": "@jupyter-widgets/base",
            "_view_module_version": "1.2.0",
            "_view_name": "LayoutView",
            "align_content": null,
            "align_items": null,
            "align_self": null,
            "border": null,
            "bottom": null,
            "display": null,
            "flex": null,
            "flex_flow": null,
            "grid_area": null,
            "grid_auto_columns": null,
            "grid_auto_flow": null,
            "grid_auto_rows": null,
            "grid_column": null,
            "grid_gap": null,
            "grid_row": null,
            "grid_template_areas": null,
            "grid_template_columns": null,
            "grid_template_rows": null,
            "height": null,
            "justify_content": null,
            "justify_items": null,
            "left": null,
            "margin": null,
            "max_height": null,
            "max_width": null,
            "min_height": null,
            "min_width": null,
            "object_fit": null,
            "object_position": null,
            "order": null,
            "overflow": null,
            "overflow_x": null,
            "overflow_y": null,
            "padding": null,
            "right": null,
            "top": null,
            "visibility": null,
            "width": null
          }
        },
        "c2d538c58ece4d08ae20a4d9ff232a54": {
          "model_module": "@jupyter-widgets/controls",
          "model_module_version": "1.5.0",
          "model_name": "DescriptionStyleModel",
          "state": {
            "_model_module": "@jupyter-widgets/controls",
            "_model_module_version": "1.5.0",
            "_model_name": "DescriptionStyleModel",
            "_view_count": null,
            "_view_module": "@jupyter-widgets/base",
            "_view_module_version": "1.2.0",
            "_view_name": "StyleView",
            "description_width": ""
          }
        },
        "c452ea19965d49b99d5d22e8571c23df": {
          "model_module": "@jupyter-widgets/base",
          "model_module_version": "1.2.0",
          "model_name": "LayoutModel",
          "state": {
            "_model_module": "@jupyter-widgets/base",
            "_model_module_version": "1.2.0",
            "_model_name": "LayoutModel",
            "_view_count": null,
            "_view_module": "@jupyter-widgets/base",
            "_view_module_version": "1.2.0",
            "_view_name": "LayoutView",
            "align_content": null,
            "align_items": null,
            "align_self": null,
            "border": null,
            "bottom": null,
            "display": null,
            "flex": null,
            "flex_flow": null,
            "grid_area": null,
            "grid_auto_columns": null,
            "grid_auto_flow": null,
            "grid_auto_rows": null,
            "grid_column": null,
            "grid_gap": null,
            "grid_row": null,
            "grid_template_areas": null,
            "grid_template_columns": null,
            "grid_template_rows": null,
            "height": null,
            "justify_content": null,
            "justify_items": null,
            "left": null,
            "margin": null,
            "max_height": null,
            "max_width": null,
            "min_height": null,
            "min_width": null,
            "object_fit": null,
            "object_position": null,
            "order": null,
            "overflow": null,
            "overflow_x": null,
            "overflow_y": null,
            "padding": null,
            "right": null,
            "top": null,
            "visibility": null,
            "width": null
          }
        },
        "c4b28c6b62af4c73b8da9da116ebee57": {
          "model_module": "@jupyter-widgets/controls",
          "model_module_version": "1.5.0",
          "model_name": "DescriptionStyleModel",
          "state": {
            "_model_module": "@jupyter-widgets/controls",
            "_model_module_version": "1.5.0",
            "_model_name": "DescriptionStyleModel",
            "_view_count": null,
            "_view_module": "@jupyter-widgets/base",
            "_view_module_version": "1.2.0",
            "_view_name": "StyleView",
            "description_width": ""
          }
        },
        "c5b1a9b59b8e4737bffb1b93950f674d": {
          "model_module": "@jupyter-widgets/controls",
          "model_module_version": "1.5.0",
          "model_name": "HBoxModel",
          "state": {
            "_dom_classes": [],
            "_model_module": "@jupyter-widgets/controls",
            "_model_module_version": "1.5.0",
            "_model_name": "HBoxModel",
            "_view_count": null,
            "_view_module": "@jupyter-widgets/controls",
            "_view_module_version": "1.5.0",
            "_view_name": "HBoxView",
            "box_style": "",
            "children": [
              "IPY_MODEL_3b8e1d65df0a49369962c50e550d6db9",
              "IPY_MODEL_62a3bdce7881420db143ae4734aa9ec2",
              "IPY_MODEL_3ccc895d432449a2a6b70583ab1930eb"
            ],
            "layout": "IPY_MODEL_7c10ca38dbb641a9a632c106a81f23e8"
          }
        },
        "c764fbb0e2714deca67f844e2a81e24e": {
          "model_module": "@jupyter-widgets/controls",
          "model_module_version": "1.5.0",
          "model_name": "DescriptionStyleModel",
          "state": {
            "_model_module": "@jupyter-widgets/controls",
            "_model_module_version": "1.5.0",
            "_model_name": "DescriptionStyleModel",
            "_view_count": null,
            "_view_module": "@jupyter-widgets/base",
            "_view_module_version": "1.2.0",
            "_view_name": "StyleView",
            "description_width": ""
          }
        },
        "d0f27ddd89ed41ca90fe47646e38cc9b": {
          "model_module": "@jupyter-widgets/base",
          "model_module_version": "1.2.0",
          "model_name": "LayoutModel",
          "state": {
            "_model_module": "@jupyter-widgets/base",
            "_model_module_version": "1.2.0",
            "_model_name": "LayoutModel",
            "_view_count": null,
            "_view_module": "@jupyter-widgets/base",
            "_view_module_version": "1.2.0",
            "_view_name": "LayoutView",
            "align_content": null,
            "align_items": null,
            "align_self": null,
            "border": null,
            "bottom": null,
            "display": null,
            "flex": null,
            "flex_flow": null,
            "grid_area": null,
            "grid_auto_columns": null,
            "grid_auto_flow": null,
            "grid_auto_rows": null,
            "grid_column": null,
            "grid_gap": null,
            "grid_row": null,
            "grid_template_areas": null,
            "grid_template_columns": null,
            "grid_template_rows": null,
            "height": null,
            "justify_content": null,
            "justify_items": null,
            "left": null,
            "margin": null,
            "max_height": null,
            "max_width": null,
            "min_height": null,
            "min_width": null,
            "object_fit": null,
            "object_position": null,
            "order": null,
            "overflow": null,
            "overflow_x": null,
            "overflow_y": null,
            "padding": null,
            "right": null,
            "top": null,
            "visibility": null,
            "width": null
          }
        },
        "d516c9788a554f728ec6877474c37107": {
          "model_module": "@jupyter-widgets/base",
          "model_module_version": "1.2.0",
          "model_name": "LayoutModel",
          "state": {
            "_model_module": "@jupyter-widgets/base",
            "_model_module_version": "1.2.0",
            "_model_name": "LayoutModel",
            "_view_count": null,
            "_view_module": "@jupyter-widgets/base",
            "_view_module_version": "1.2.0",
            "_view_name": "LayoutView",
            "align_content": null,
            "align_items": null,
            "align_self": null,
            "border": null,
            "bottom": null,
            "display": null,
            "flex": null,
            "flex_flow": null,
            "grid_area": null,
            "grid_auto_columns": null,
            "grid_auto_flow": null,
            "grid_auto_rows": null,
            "grid_column": null,
            "grid_gap": null,
            "grid_row": null,
            "grid_template_areas": null,
            "grid_template_columns": null,
            "grid_template_rows": null,
            "height": null,
            "justify_content": null,
            "justify_items": null,
            "left": null,
            "margin": null,
            "max_height": null,
            "max_width": null,
            "min_height": null,
            "min_width": null,
            "object_fit": null,
            "object_position": null,
            "order": null,
            "overflow": null,
            "overflow_x": null,
            "overflow_y": null,
            "padding": null,
            "right": null,
            "top": null,
            "visibility": null,
            "width": null
          }
        },
        "d73234ddb45c42fe8ecbc3cb7cb27a2b": {
          "model_module": "@jupyter-widgets/base",
          "model_module_version": "1.2.0",
          "model_name": "LayoutModel",
          "state": {
            "_model_module": "@jupyter-widgets/base",
            "_model_module_version": "1.2.0",
            "_model_name": "LayoutModel",
            "_view_count": null,
            "_view_module": "@jupyter-widgets/base",
            "_view_module_version": "1.2.0",
            "_view_name": "LayoutView",
            "align_content": null,
            "align_items": null,
            "align_self": null,
            "border": null,
            "bottom": null,
            "display": null,
            "flex": null,
            "flex_flow": null,
            "grid_area": null,
            "grid_auto_columns": null,
            "grid_auto_flow": null,
            "grid_auto_rows": null,
            "grid_column": null,
            "grid_gap": null,
            "grid_row": null,
            "grid_template_areas": null,
            "grid_template_columns": null,
            "grid_template_rows": null,
            "height": null,
            "justify_content": null,
            "justify_items": null,
            "left": null,
            "margin": null,
            "max_height": null,
            "max_width": null,
            "min_height": null,
            "min_width": null,
            "object_fit": null,
            "object_position": null,
            "order": null,
            "overflow": null,
            "overflow_x": null,
            "overflow_y": null,
            "padding": null,
            "right": null,
            "top": null,
            "visibility": null,
            "width": null
          }
        },
        "da1250ab6dcd443bb43ee0434ea5bd3c": {
          "model_module": "@jupyter-widgets/controls",
          "model_module_version": "1.5.0",
          "model_name": "DescriptionStyleModel",
          "state": {
            "_model_module": "@jupyter-widgets/controls",
            "_model_module_version": "1.5.0",
            "_model_name": "DescriptionStyleModel",
            "_view_count": null,
            "_view_module": "@jupyter-widgets/base",
            "_view_module_version": "1.2.0",
            "_view_name": "StyleView",
            "description_width": ""
          }
        },
        "da1a80eba1a2426ea5ba300e96c2dffd": {
          "model_module": "@jupyter-widgets/controls",
          "model_module_version": "1.5.0",
          "model_name": "ProgressStyleModel",
          "state": {
            "_model_module": "@jupyter-widgets/controls",
            "_model_module_version": "1.5.0",
            "_model_name": "ProgressStyleModel",
            "_view_count": null,
            "_view_module": "@jupyter-widgets/base",
            "_view_module_version": "1.2.0",
            "_view_name": "StyleView",
            "bar_color": null,
            "description_width": ""
          }
        },
        "ddaa610b64bb4a258df3ddf53294deca": {
          "model_module": "@jupyter-widgets/controls",
          "model_module_version": "1.5.0",
          "model_name": "HBoxModel",
          "state": {
            "_dom_classes": [],
            "_model_module": "@jupyter-widgets/controls",
            "_model_module_version": "1.5.0",
            "_model_name": "HBoxModel",
            "_view_count": null,
            "_view_module": "@jupyter-widgets/controls",
            "_view_module_version": "1.5.0",
            "_view_name": "HBoxView",
            "box_style": "",
            "children": [
              "IPY_MODEL_230d9236192d462abe81c5c8db7f1641",
              "IPY_MODEL_74f59f852297437b9ec333d367e3e043",
              "IPY_MODEL_261bbf9e9289473d90101d235232ff7b"
            ],
            "layout": "IPY_MODEL_73f8b3b8e7c846819185054634dda1cd"
          }
        },
        "eaeaf2dc6fcd404e9e33eaf860c75310": {
          "model_module": "@jupyter-widgets/base",
          "model_module_version": "1.2.0",
          "model_name": "LayoutModel",
          "state": {
            "_model_module": "@jupyter-widgets/base",
            "_model_module_version": "1.2.0",
            "_model_name": "LayoutModel",
            "_view_count": null,
            "_view_module": "@jupyter-widgets/base",
            "_view_module_version": "1.2.0",
            "_view_name": "LayoutView",
            "align_content": null,
            "align_items": null,
            "align_self": null,
            "border": null,
            "bottom": null,
            "display": null,
            "flex": null,
            "flex_flow": null,
            "grid_area": null,
            "grid_auto_columns": null,
            "grid_auto_flow": null,
            "grid_auto_rows": null,
            "grid_column": null,
            "grid_gap": null,
            "grid_row": null,
            "grid_template_areas": null,
            "grid_template_columns": null,
            "grid_template_rows": null,
            "height": null,
            "justify_content": null,
            "justify_items": null,
            "left": null,
            "margin": null,
            "max_height": null,
            "max_width": null,
            "min_height": null,
            "min_width": null,
            "object_fit": null,
            "object_position": null,
            "order": null,
            "overflow": null,
            "overflow_x": null,
            "overflow_y": null,
            "padding": null,
            "right": null,
            "top": null,
            "visibility": null,
            "width": null
          }
        },
        "f409a96be09649d691ac69a74359550a": {
          "model_module": "@jupyter-widgets/base",
          "model_module_version": "1.2.0",
          "model_name": "LayoutModel",
          "state": {
            "_model_module": "@jupyter-widgets/base",
            "_model_module_version": "1.2.0",
            "_model_name": "LayoutModel",
            "_view_count": null,
            "_view_module": "@jupyter-widgets/base",
            "_view_module_version": "1.2.0",
            "_view_name": "LayoutView",
            "align_content": null,
            "align_items": null,
            "align_self": null,
            "border": null,
            "bottom": null,
            "display": null,
            "flex": null,
            "flex_flow": null,
            "grid_area": null,
            "grid_auto_columns": null,
            "grid_auto_flow": null,
            "grid_auto_rows": null,
            "grid_column": null,
            "grid_gap": null,
            "grid_row": null,
            "grid_template_areas": null,
            "grid_template_columns": null,
            "grid_template_rows": null,
            "height": null,
            "justify_content": null,
            "justify_items": null,
            "left": null,
            "margin": null,
            "max_height": null,
            "max_width": null,
            "min_height": null,
            "min_width": null,
            "object_fit": null,
            "object_position": null,
            "order": null,
            "overflow": null,
            "overflow_x": null,
            "overflow_y": null,
            "padding": null,
            "right": null,
            "top": null,
            "visibility": null,
            "width": null
          }
        },
        "fab17685b1d3459aa97328b29571451f": {
          "model_module": "@jupyter-widgets/base",
          "model_module_version": "1.2.0",
          "model_name": "LayoutModel",
          "state": {
            "_model_module": "@jupyter-widgets/base",
            "_model_module_version": "1.2.0",
            "_model_name": "LayoutModel",
            "_view_count": null,
            "_view_module": "@jupyter-widgets/base",
            "_view_module_version": "1.2.0",
            "_view_name": "LayoutView",
            "align_content": null,
            "align_items": null,
            "align_self": null,
            "border": null,
            "bottom": null,
            "display": null,
            "flex": null,
            "flex_flow": null,
            "grid_area": null,
            "grid_auto_columns": null,
            "grid_auto_flow": null,
            "grid_auto_rows": null,
            "grid_column": null,
            "grid_gap": null,
            "grid_row": null,
            "grid_template_areas": null,
            "grid_template_columns": null,
            "grid_template_rows": null,
            "height": null,
            "justify_content": null,
            "justify_items": null,
            "left": null,
            "margin": null,
            "max_height": null,
            "max_width": null,
            "min_height": null,
            "min_width": null,
            "object_fit": null,
            "object_position": null,
            "order": null,
            "overflow": null,
            "overflow_x": null,
            "overflow_y": null,
            "padding": null,
            "right": null,
            "top": null,
            "visibility": null,
            "width": null
          }
        },
        "fc2f6107fe4f47a2ab411077fd3e4879": {
          "model_module": "@jupyter-widgets/controls",
          "model_module_version": "1.5.0",
          "model_name": "DescriptionStyleModel",
          "state": {
            "_model_module": "@jupyter-widgets/controls",
            "_model_module_version": "1.5.0",
            "_model_name": "DescriptionStyleModel",
            "_view_count": null,
            "_view_module": "@jupyter-widgets/base",
            "_view_module_version": "1.2.0",
            "_view_name": "StyleView",
            "description_width": ""
          }
        }
      }
    }
  },
  "nbformat": 4,
  "nbformat_minor": 0
}
